{
 "cells": [
  {
   "cell_type": "code",
   "execution_count": null,
   "id": "90dfc392-518b-4c43-aba9-c0de6da47338",
   "metadata": {},
   "outputs": [],
   "source": [
    "# Rではじめる統計基礎講座(作：寺田清昭)\n"
   ]
  }
 ],
 "metadata": {
  "kernelspec": {
   "display_name": "Python 3 (ipykernel)",
   "language": "python",
   "name": "python3"
  },
  "language_info": {
   "codemirror_mode": {
    "name": "ipython",
    "version": 3
   },
   "file_extension": ".py",
   "mimetype": "text/x-python",
   "name": "python",
   "nbconvert_exporter": "python",
   "pygments_lexer": "ipython3",
   "version": "3.8.13"
  }
 },
 "nbformat": 4,
 "nbformat_minor": 5
}
