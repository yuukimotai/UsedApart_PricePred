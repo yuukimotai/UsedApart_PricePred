{
 "cells": [
  {
   "cell_type": "markdown",
   "id": "3a31ae59-73a9-4e13-b1a5-6962a9901433",
   "metadata": {},
   "source": [
    "### Rではじめる統計基礎講座(作：寺田清昭)\n",
    "<section style=\"text-align:center\">■標準化</section>\n",
    "$$ \\frac{X -  μ}{σ} $$\n",
    "<section style=\"text-align:center\">\n",
    "$X: 1つ1つのデータ$<br>\n",
    "$μ: 平均値$<br>\n",
    "$σ: 標準偏差$\n",
    "</section>"
   ]
  },
  {
   "cell_type": "markdown",
   "id": "2289b2c6-074f-479f-a3a1-6b98a030f8ec",
   "metadata": {
    "jp-MarkdownHeadingCollapsed": true
   },
   "source": [
    "### 母集団と標本\n",
    "<section style=\"text-align:center\">■母集団</section>\n",
    "<section style=\"text-align:center\">\n",
    "    $母平均: μ$<br>\n",
    "    $母分散: σ^2$<br>\n",
    "    $母標準偏差: σ$\n",
    "</section>\n",
    "<section style=\"text-align:center\">↓　標本抽出サンプリング</section>\n",
    "<section style=\"text-align:center\">■標本</section>\n",
    "<section style=\"text-align:center\">\n",
    "    $標本平均: \\bar{X}$<br>\n",
    "    $標本分散: s^2$<br>\n",
    "    $標本標準偏差: s$\n",
    "    <section>\n",
    "        ・母集団の平均・分散・標準偏差はわからない<br>\n",
    "                ↪︎母集団の平均、分散、標準偏差を予測→推定→点推定、区間推定<br>\n",
    "        ・標本の平均・分散・標準偏差はわかる<br>\n",
    "                ↪︎標本から仮説が正しいか判断→仮設検定<br>\n",
    "    </section>\n",
    "</section>\n",
    "<section style=\"text-align:center\">↓</section>\n",
    "<section style=\"text-align:center\">\n",
    "    $推定母平均: \\hat{X}$<br>\n",
    "    $推定母分散: \\hat{σ^2}$<br>\n",
    "    $推定母標準偏差: \\hat{σ}$\n",
    "</section>"
   ]
  },
  {
   "cell_type": "markdown",
   "id": "e5f9f8db-df2d-426b-837a-eca6caf49d9a",
   "metadata": {},
   "source": [
    "### 分散と不偏分散 \n",
    "\\\n",
    "$$（分散） \\frac{1}{N} \\Sigma \\sum_{i=0}^{N-1}(X_i - \\bar{X})^2 $$\n",
    "$$（不偏分散） \\frac{1}{N - 1} \\Sigma \\sum_{i=0}^{N-1}(X_i - \\bar{X})^2 $$\n",
    "\n",
    "■不偏分散の特徴<br>\n",
    "・母分散の期待値と一致する→少数のサンプルから正確に推定<br>\n",
    "・データ数が多い時はあまり変わらない"
   ]
  },
  {
   "cell_type": "markdown",
   "id": "f0a2e126-788a-4159-b094-d04082f07e71",
   "metadata": {},
   "source": [
    "### 区間推定の考え方\n",
    "https://medemanabu.net/latex/operators/ LaTexコマンド\n",
    "\\\n",
    "■標本平均の標準分布と区間推定<br>\n",
    "・１サンプル撮ってきた時と何が違うのか？<br>\n",
    "標本平均内において、$$平均：　μ$$ $$ 標準偏差: \\frac{σ}{\\sqrt{n}}$$ $$ 標準化: \\frac{\\bar{X} - μ}{σ / \\sqrt{n}}$$\n",
    "例は以下。\n",
    "$$-1.96 \\leqq \\frac{\\bar{X} - μ}{σ / \\sqrt{n}} \\leqq 1.96$$\n",
    "$$\\bar{X} - 1.96 \\frac{σ}{\\sqrt{n}} \\leqq μ \\leqq\\bar{X}+1.96\\frac{σ}{\\sqrt{n}}$$ \n",
    "サンプル数が1点からn点に増えると推定区間が変わる。→１サンプルの時より、信頼区間が狭まる。\n",
    "上記は両側検定の場合。\n",
    "片側検定の場合、符号がマイナスの方が山形のグラフの左側、符号がプラスの方がグラフの右側を示す。"
   ]
  }
 ],
 "metadata": {
  "kernelspec": {
   "display_name": "Python 3 (ipykernel)",
   "language": "python",
   "name": "python3"
  },
  "language_info": {
   "codemirror_mode": {
    "name": "ipython",
    "version": 3
   },
   "file_extension": ".py",
   "mimetype": "text/x-python",
   "name": "python",
   "nbconvert_exporter": "python",
   "pygments_lexer": "ipython3",
   "version": "3.8.13"
  }
 },
 "nbformat": 4,
 "nbformat_minor": 5
}
