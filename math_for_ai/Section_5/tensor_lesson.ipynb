{
 "cells": [
  {
   "cell_type": "markdown",
   "metadata": {},
   "source": [
    "# スカラー、ベクトル、行列、テンソル\n",
    "複数のデータをひとまとめにして扱う方法を学びます。人工知能では大量のデータを扱うため、スカラー、ベクトル、行列、テンソルは大事な概念です。"
   ]
  },
  {
   "cell_type": "markdown",
   "metadata": {},
   "source": [
    "### スカラーとは？\n",
    "\n",
    "スカラー（scalar）は1、5、1.2、-7などの通常の数値のことです。本コースでは、数式におけるアルファベット、もしくはギリシャ文字の小文字はスカラーを表すものとします。（例: $a$、$p$、$\\alpha$、$\\gamma$）  "
   ]
  },
  {
   "cell_type": "markdown",
   "metadata": {},
   "source": [
    "### スカラーの実装\n",
    "Pythonで扱う通常の数値は、このスカラーに対応します。以下はコード上におけるスカラーの例です。"
   ]
  },
  {
   "cell_type": "code",
   "execution_count": null,
   "metadata": {
    "collapsed": true
   },
   "outputs": [],
   "source": []
  },
  {
   "cell_type": "markdown",
   "metadata": {},
   "source": [
    "### ベクトルとは？\n",
    "\n",
    "ベクトルは、スカラーを直線上に並べたものです。本コースにおける数式では、アルファベットの小文字に矢印を乗せたものでベクトルを表します。以下はベクトルの表記の例です。\n",
    "\n",
    "$$ \\begin{aligned}\n",
    "\\vec{a} & = \\left(\n",
    "    \\begin{array}{c}\n",
    "      1 \\\\\n",
    "      2 \\\\\n",
    "      3\n",
    "    \\end{array}\n",
    " \\right) \\\\\n",
    " \\vec{b} & = (-2.3, 0.25, -1.2, 1.8, 0.41) \\\\\n",
    " \\vec{p} & = \\left(\n",
    "    \\begin{array}{c}\n",
    "      p_1 \\\\\n",
    "      p_2 \\\\\n",
    "      \\vdots \\\\\n",
    "      p_m\n",
    "    \\end{array}\n",
    " \\right) \\\\\n",
    "\\vec{q} & = (q_1, q_2, \\cdots, q_n)\n",
    "\\end{aligned} $$"
   ]
  },
  {
   "cell_type": "markdown",
   "metadata": {},
   "source": [
    "ベクトルには、上記の$\\vec{a}$、$\\vec{p}$のように縦に数値を並べる縦ベクトルと、$\\vec{b}$、$\\vec{q}$のように横に数値を並べる横ベクトルがあります。本書では、今後横ベクトルを主に使うので、単にベクトルと記述する際は横ベクトルを指すことにします。  \n",
    "また、$\\vec{p}$、$\\vec{q}$に見られるように、ベクトルの要素を変数で表す際の添字の数は1つです。"
   ]
  },
  {
   "cell_type": "markdown",
   "metadata": {},
   "source": [
    "### ベクトルの実装\n",
    "\n",
    "ベクトルは、Numpyの1次元配列を用いて以下のように表すことができます。"
   ]
  },
  {
   "cell_type": "code",
   "execution_count": null,
   "metadata": {},
   "outputs": [],
   "source": []
  },
  {
   "cell_type": "markdown",
   "metadata": {},
   "source": [
    "### 行列とは？\n",
    "\n",
    "行列はスカラーを格子状に並べたもので、例えば以下のように表記します。\n",
    "\n",
    "$$\n",
    "   \\left(\n",
    "    \\begin{array}{cccc}\n",
    "      0.12 & -0.34 & 1.3 & 0.81 \\\\\n",
    "      -1.4 & 0.25 & 0.69 & -0.41 \\\\\n",
    "      0.25 & -1.5 & -0.15 & 1.1 \\\\\n",
    "    \\end{array}\n",
    "  \\right)\n",
    "$$\n",
    "\n",
    "行列において、水平方向のスカラーの並びを**行**、垂直方向のスカラーの並びを**列**といいます。行列における行と列を、以下の図に示します。  \n",
    "\n",
    "<img src=\"images/matrix.png\">\n",
    "\n",
    "行は、上から1行目、2行目、3行目...と数えます。列は、左から1列目、2列目、3列目...と数えます。また、行がm個、列がn個並んでいる行列を、m x nの行列と表現します。従って、上の図の行列は、3x4の行列になります。  \n",
    "\n",
    "なお、縦ベクトルは列の数が1の行列と、横ベクトルは行の数が1の行列と考えることもできます。   \n",
    "\n",
    "本コースにおける数式では、アルファベット大文字のイタリックで行列を表します。以下は行列の表記の例です。  \n",
    "\n",
    "$$\n",
    "   A = \\left(\n",
    "    \\begin{array}{cccc}\n",
    "      0 & 1 & 2 \\\\\n",
    "      3 & 4 & 5 \\\\\n",
    "    \\end{array}\n",
    "  \\right)\n",
    "$$\n",
    "$$\n",
    "   P = \\left(\n",
    "    \\begin{array}{cccc}\n",
    "      p_{11} & p_{12} & \\ldots & p_{1n} \\\\\n",
    "      p_{21} & p_{22} & \\ldots & p_{2n} \\\\\n",
    "      \\vdots & \\vdots & \\ddots & \\vdots \\\\\n",
    "      p_{m1} & p_{m2} & \\ldots & p_{mn} \\\\\n",
    "    \\end{array}\n",
    "  \\right) \n",
    "$$\n",
    "\n",
    "行列$A$は2x3の行列で、行列$P$はm x nの行列です。  \n",
    "また、$P$に見られるように、行列の要素を変数で表す際の添字の数は2つです。    "
   ]
  },
  {
   "cell_type": "markdown",
   "metadata": {},
   "source": [
    "### 行列の実装\n",
    "Numpyの2次元配列を用いると、例えば以下のように行列を表現することができます。  "
   ]
  },
  {
   "cell_type": "code",
   "execution_count": null,
   "metadata": {},
   "outputs": [],
   "source": []
  },
  {
   "cell_type": "markdown",
   "metadata": {},
   "source": [
    "### テンソルとは？\n",
    "\n",
    "テンソルはスカラーを複数の次元に並べたもので、スカラー、ベクトル、行列を含みます。テンソルの概念を以下の図に示します。\n",
    "\n",
    "<img src=\"images/tensor.png\"> \n",
    "\n",
    "各要素につく添字の数を、そのテンソルの階数といいます。スカラーには添字がないので0階のテンソル、ベクトルは添字が1つなので1階のテンソル、行列は添字が2つなので2階のテンソルになります。より高次元なものは、3階のテンソル、4階のテンソル...となります。    "
   ]
  },
  {
   "cell_type": "markdown",
   "metadata": {},
   "source": [
    "### テンソルの実装\n",
    "\n",
    "Numpyの多次元配列を用いると、次のように3階のテンソルを表現することができます。"
   ]
  },
  {
   "cell_type": "code",
   "execution_count": null,
   "metadata": {},
   "outputs": [],
   "source": []
  },
  {
   "cell_type": "markdown",
   "metadata": {},
   "source": [
    "このコードにおける```a```は、3階のテンソルです。Numpyの配列を使えば、さらに回数の多いテンソルを表現することも可能です。  "
   ]
  },
  {
   "cell_type": "markdown",
   "metadata": {},
   "source": [
    "### 演習:\n",
    "以下のセルに、Numpyでスカラー、ベクトル、行列、3階のテンソルを表す配列をを1つずつ記述してみよう。"
   ]
  },
  {
   "cell_type": "code",
   "execution_count": null,
   "metadata": {},
   "outputs": [],
   "source": []
  }
 ],
 "metadata": {
  "kernelspec": {
   "display_name": "Python 3",
   "language": "python",
   "name": "python3"
  },
  "language_info": {
   "codemirror_mode": {
    "name": "ipython",
    "version": 3
   },
   "file_extension": ".py",
   "mimetype": "text/x-python",
   "name": "python",
   "nbconvert_exporter": "python",
   "pygments_lexer": "ipython3",
   "version": "3.5.4"
  }
 },
 "nbformat": 4,
 "nbformat_minor": 2
}
