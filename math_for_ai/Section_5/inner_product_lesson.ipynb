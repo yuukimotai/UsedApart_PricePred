{
 "cells": [
  {
   "cell_type": "markdown",
   "metadata": {},
   "source": [
    "# ベクトルの内積とノルム\n",
    "ベクトルの内積とノルムの意義と計算方法を学びます。ベクトルの操作に慣れていきましょう。"
   ]
  },
  {
   "cell_type": "markdown",
   "metadata": {},
   "source": [
    "### 内積とは？\n",
    "\n",
    "内積はベクトル同士の積の一種ですが、次のように定義されます。\n",
    "\n",
    "$$ \\begin{aligned}\n",
    "\\vec{a} & = (a_1, a_2, \\cdots, a_n) \\\\\n",
    "\\vec{b} & = (b_1, b_2, \\cdots, b_n)\n",
    "\\end{aligned} $$\n",
    "\n",
    "のとき、\n",
    "\n",
    "$$ \\begin{aligned}\n",
    "\\vec{a}\\cdot\\vec{b} & = (a_1, a_2, \\cdots, a_n)\\cdot(b_1, b_2, \\cdots, b_n) \\\\\n",
    "& = (a_1b_1+a_2b_2+\\cdots+a_nb_n) \\\\\n",
    "& = \\sum_{k=1}^n a_kb_k\n",
    "\\end{aligned} $$\n",
    "\n",
    "内積をとる際は、2つのベクトルの要素数が同じである必要があります。  \n",
    "内積は、2つのベクトルの相関を求める際に使用します。相関については後のセクションで解説します。"
   ]
  },
  {
   "cell_type": "markdown",
   "metadata": {},
   "source": [
    "### 内積の実装\n",
    "NumPyのdot関数で内積を求めることができます。"
   ]
  },
  {
   "cell_type": "code",
   "execution_count": null,
   "metadata": {
    "collapsed": true
   },
   "outputs": [],
   "source": []
  },
  {
   "cell_type": "markdown",
   "metadata": {},
   "source": [
    "### ノルムとは？\n",
    "\n",
    "ノルムとはベクトルの「大きさ」を表す量です。  \n",
    "人工知能でよく使われるノルムに、「$L^2$ノルム」と「$L^1ノルム$」があります。\n",
    "\n",
    "**$L^2$ノルム**  \n",
    "$L^2$ノルムは次のように$||x||_2$と表されます。ベクトルの各要素を2乗和し、平方根をとって計算します。\n",
    "\n",
    "$$ \\begin{aligned}\n",
    "||x||_2 & = \\sqrt {x_1^2+x_2^2+ \\cdots + x_n^2} \\\\\n",
    "& = \\sqrt {\\sum_{k=1}^n x_k^2}\n",
    "\\end{aligned} $$\n",
    "\n",
    "**$L^1$ノルム**  \n",
    "$L^1$ノルムは次のように$||x||_1$と表されます。ベクトルの各要素の絶対値を足し合わせて計算します。\n",
    "\n",
    "$$ \\begin{aligned}\n",
    "||x||_1 & = |x_1|+|x_2|+ \\cdots + |x_n| \\\\\n",
    "& = \\sum_{k=1}^n |x_k|\n",
    "\\end{aligned} $$\n",
    "\n",
    "**一般化されたノルム**  \n",
    "ノルムをより一般化した$L^p$は以下のように表されます。\n",
    "\n",
    "$$ \\begin{aligned}\n",
    "||x||_p & = (x_1^p+x_2^p+ \\cdots + x_n^p)^{\\frac{1}{p}} \\\\\n",
    "& = (\\sum_{k=1}^n |x_k|^p)^{\\frac{1}{p}}\n",
    "\\end{aligned} $$\n",
    "\n",
    "ノルムは、ディープラーニングにおいて「正則化」に使われます。  \n",
    "正則化とは、必要以上にネットワークの学習が進んでいしまうことをパラメータを調節することにより予防することです。"
   ]
  },
  {
   "cell_type": "markdown",
   "metadata": {},
   "source": [
    "### ノルムの実装\n",
    "\n",
    "ノルムはNumPyのlinalg.norm関数を用いて求めることができます。"
   ]
  },
  {
   "cell_type": "code",
   "execution_count": null,
   "metadata": {
    "collapsed": true
   },
   "outputs": [],
   "source": []
  },
  {
   "cell_type": "markdown",
   "metadata": {},
   "source": [
    "### 演習:\n",
    "以下のセルで、ベクトル$\\vec{a}$とベクトル$\\vec{b}$の内積を求め、ベクトル$\\vec{a}$の$L^2$ノルムと$L^1ノルム$を求めましょう。"
   ]
  },
  {
   "cell_type": "code",
   "execution_count": null,
   "metadata": {},
   "outputs": [],
   "source": [
    "import numpy as np\n",
    "\n",
    "a = np.array([1, -2, 2])\n",
    "b = np.array([2, -2, 1])\n",
    "\n",
    "# 内積\n",
    "\n",
    "\n",
    "# L2ノルム\n",
    "\n",
    "\n",
    "# L1ノルム\n"
   ]
  }
 ],
 "metadata": {
  "kernelspec": {
   "display_name": "Python 3",
   "language": "python",
   "name": "python3"
  },
  "language_info": {
   "codemirror_mode": {
    "name": "ipython",
    "version": 3
   },
   "file_extension": ".py",
   "mimetype": "text/x-python",
   "name": "python",
   "nbconvert_exporter": "python",
   "pygments_lexer": "ipython3",
   "version": "3.8.8"
  }
 },
 "nbformat": 4,
 "nbformat_minor": 2
}
