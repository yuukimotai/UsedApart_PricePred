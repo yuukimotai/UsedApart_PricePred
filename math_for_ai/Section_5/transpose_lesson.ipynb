{
 "cells": [
  {
   "cell_type": "markdown",
   "metadata": {},
   "source": [
    "# 転置\n",
    "転置により、行列の行と列を入れ替えます。人工知能のコードでは転置を頻繁に使います。"
   ]
  },
  {
   "cell_type": "markdown",
   "metadata": {},
   "source": [
    "### 転置とは？\n",
    "\n",
    "行列に対する重要な操作に、**転置**というものがあります。行列を転置することにより、行と列が入れ替わります。以下は転置の例ですが、例えば行列$A$の転置行列は$A^{\\mathrm{T}}$と表します。  \n",
    "\n",
    "$$  \\begin{aligned} \\\\\n",
    "   A & = \\left(\n",
    "    \\begin{array}{ccc}\n",
    "      1 & 2 & 3 \\\\\n",
    "      4 & 5 & 6 \\\\\n",
    "    \\end{array}\n",
    "  \\right) \\\\\n",
    "   A^{\\mathrm{T}} & = \\left(\n",
    "    \\begin{array}{cc}\n",
    "      1 & 4 \\\\\n",
    "      2 & 5 \\\\\n",
    "      3 & 6 \\\\\n",
    "    \\end{array}\n",
    "  \\right) \\\\\n",
    "\\end{aligned} $$ \n",
    "\n",
    "$$  \\begin{aligned} \\\\\n",
    "   B & = \\left(\n",
    "    \\begin{array}{cc}\n",
    "      a & b \\\\\n",
    "      c & d \\\\\n",
    "      e & f \\\\\n",
    "    \\end{array}\n",
    "  \\right) \\\\\n",
    "   B^{\\mathrm{T}} & = \\left(\n",
    "    \\begin{array}{ccc}\n",
    "      a & c & e \\\\\n",
    "      b & d & f \\\\\n",
    "    \\end{array}\n",
    "  \\right) \\\\\n",
    "\\end{aligned} $$ "
   ]
  },
  {
   "cell_type": "markdown",
   "metadata": {},
   "source": [
    "### 転置の実装\n",
    "Numpyにおいては、行列を表す配列名の後に`.T`を付けると転置されます。"
   ]
  },
  {
   "cell_type": "code",
   "execution_count": null,
   "metadata": {},
   "outputs": [],
   "source": []
  },
  {
   "cell_type": "markdown",
   "metadata": {},
   "source": [
    "### 行列積と転置\n",
    "行列積においては、基本的に前の行列の列数と、後ろの行列の行数が一致する必要があります。しかしながら、一致しなくても転置により行列積が可能になる場合があります。  \n",
    "下の図のようなl$\\times$nの行列$A$と、m$\\times$nの行列$B$を考えます。$n\\neq m$とします。\n",
    "\n",
    "<img src=\"images/product_impossible.png\">\n",
    "\n",
    "この場合は、行列$A$の列数がnであり、行列$B$の行数がmで等しくないので、行列積はできません。しかしながら、行列$B$を転置することにより、下の図で示すように行列積が可能になります。\n",
    "\n",
    "<img src=\"images/product_possible.png\">\n",
    "\n",
    "行列$A$の列数と、行列$B^{\\mathrm{T}}$の行数が等しくなり、行列積が計算できるようになりました。  "
   ]
  },
  {
   "cell_type": "markdown",
   "metadata": {},
   "source": [
    "### 転置と行列積の実装\n",
    "以下は、Numpyの配列を転置し、行列積を計算している例です。配列名のあとに```.T```をつけると、転置行列になります。"
   ]
  },
  {
   "cell_type": "code",
   "execution_count": null,
   "metadata": {},
   "outputs": [],
   "source": []
  },
  {
   "cell_type": "markdown",
   "metadata": {},
   "source": [
    "上記のコードでは、行列`b`を転置することで行数が3になり、行列`a`の列数と一致するので行列積が可能になっています。  "
   ]
  },
  {
   "cell_type": "markdown",
   "metadata": {},
   "source": [
    "### 演習:\n",
    "以下のセルで行列aもしくは行列bを転置し、行列aと行列bの行列積を計算しましょう。"
   ]
  },
  {
   "cell_type": "code",
   "execution_count": null,
   "metadata": {},
   "outputs": [],
   "source": [
    "import numpy as np\n",
    "\n",
    "a = np.array([[0, 1, 2],\n",
    "              [1, 2, 3]]) \n",
    "b = np.array([[0, 1, 2],\n",
    "              [2, 3, 4]]) \n",
    "\n",
    "# 行列積\n"
   ]
  }
 ],
 "metadata": {
  "kernelspec": {
   "display_name": "Python 3",
   "language": "python",
   "name": "python3"
  },
  "language_info": {
   "codemirror_mode": {
    "name": "ipython",
    "version": 3
   },
   "file_extension": ".py",
   "mimetype": "text/x-python",
   "name": "python",
   "nbconvert_exporter": "python",
   "pygments_lexer": "ipython3",
   "version": "3.5.4"
  }
 },
 "nbformat": 4,
 "nbformat_minor": 2
}
