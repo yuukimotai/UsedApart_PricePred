{
 "cells": [
  {
   "cell_type": "markdown",
   "metadata": {},
   "source": [
    "# NumPyの基礎\n",
    "NumPyはシンプルな表記で効率的なデータの操作を可能にします。  \n",
    "今回は、本コースを進める上で必要なNumPyの知識を学びます。  "
   ]
  },
  {
   "cell_type": "markdown",
   "metadata": {},
   "source": [
    "### NumPyとは\n",
    "\n",
    "NumPyはPythonの拡張モジュールです。  \n",
    "  \n",
    "大規模な数学関数ライブラリを持っており、演算機能が充実しています。  \n",
    "人工知能を実装する際には、ベクトルや行列を頻繁に扱いますので、NumPyは非常に有用なツールです。 \n",
    "\n",
    "NumPyはAnacondaに最初から含まれているのでインポートするだけで使用することが可能です。\n",
    "\n",
    "このレクチャーでのNumPyの解説は、本コースを進める上で必要最小限のものです。  \n",
    "NumPyの詳細に関しては、他のコースなどをご参考にしてください。"
   ]
  },
  {
   "cell_type": "markdown",
   "metadata": {},
   "source": [
    "### NumPyのインポート\n",
    "モジュールとは利用可能な外部のPythonのファイルのことです。  \n",
    "Pythonでは、importの記述によりモジュールを導入することができます。  \n",
    "NumPyはモジュールなので、NumPyを使用するためには、コードの先頭に以下のように記述します。  "
   ]
  },
  {
   "cell_type": "code",
   "execution_count": null,
   "metadata": {
    "collapsed": true
   },
   "outputs": [],
   "source": [
    "import numpy"
   ]
  },
  {
   "cell_type": "markdown",
   "metadata": {},
   "source": [
    "また、asを使うことでモジュールに別の名前をつけることができます"
   ]
  },
  {
   "cell_type": "code",
   "execution_count": null,
   "metadata": {
    "collapsed": true
   },
   "outputs": [],
   "source": [
    "import numpy as np"
   ]
  },
  {
   "cell_type": "markdown",
   "metadata": {},
   "source": [
    "このように記述すると、これ以降npという名前でNumPyのモジュールを扱うことができます。  "
   ]
  },
  {
   "cell_type": "markdown",
   "metadata": {},
   "source": [
    "### NumPyの配列\n",
    "\n",
    "人工知能の計算には行列やベクトルを多用しますが、これらを表現するのにNumPyの配列を用います。  \n",
    "ベクトルや行列についてはのちのセクションで改めて解説しますが、ここではとりあえずNumPyの配列とは数値が折り重なって並んだもの、と捉えていただければ十分です。  \n",
    "以降、単に配列と呼ぶ場合はNumPyの配列を指すことにします。  \n",
    "\n",
    "NumPyの配列は、NumPyのarray関数を使うことでPythonのリストから簡単に作ることができます。  "
   ]
  },
  {
   "cell_type": "code",
   "execution_count": null,
   "metadata": {},
   "outputs": [],
   "source": [
    "import numpy as np\n",
    "\n",
    "a = np.array([0, 1, 2, 3, 4, 5])  # PythonのリストからNumPyの配列を作る\n",
    "print(a) "
   ]
  },
  {
   "cell_type": "markdown",
   "metadata": {},
   "source": [
    "このような配列が折り重なった、2次元の配列を作ることもできます。  \n",
    "2次元配列は、要素がリストであるリスト（2重のリスト）から作ります。"
   ]
  },
  {
   "cell_type": "code",
   "execution_count": null,
   "metadata": {},
   "outputs": [],
   "source": [
    "import numpy as np\n",
    "\n",
    "b = np.array([[0, 1, 2], [3, 4, 5]])  # 2重のリストからNumPyの2次元配列を作る\n",
    "print(b)"
   ]
  },
  {
   "cell_type": "markdown",
   "metadata": {},
   "source": [
    "同様に、3次元の配列も作ることができます。  \n",
    "3次元配列は2次元の配列がさらに折り重なったもので、3重のリストから作ります。"
   ]
  },
  {
   "cell_type": "code",
   "execution_count": null,
   "metadata": {},
   "outputs": [],
   "source": [
    "import numpy as np\n",
    "\n",
    "c = np.array([[[0, 1, 2], [3, 4, 5]], [[5, 4, 3], [2, 1, 0]]])  # 3重のリストからNumPyの3次元配列を作る\n",
    "print(c)"
   ]
  },
  {
   "cell_type": "markdown",
   "metadata": {},
   "source": [
    "同様にして、より高次元の配列を作ることもできます。"
   ]
  },
  {
   "cell_type": "markdown",
   "metadata": {},
   "source": [
    "### 配列の演算\n",
    "\n",
    "以下の例では、配列と数値の間で演算を行なっています。  \n",
    "この場合、配列の各要素と数値の間で演算が行われます。"
   ]
  },
  {
   "cell_type": "code",
   "execution_count": null,
   "metadata": {},
   "outputs": [],
   "source": [
    "import numpy as np\n",
    "\n",
    "a = np.array([[0, 1, 2], [3, 4, 5]])  # 2次元配列\n",
    "\n",
    "print(a) \n",
    "print()\n",
    "print(a + 3)  # 各要素に3を足す\n",
    "print()\n",
    "print(a * 3)  # 各要素に3をかける"
   ]
  },
  {
   "cell_type": "markdown",
   "metadata": {},
   "source": [
    "また、以下は配列同士の演算の例です。  \n",
    "この場合は同じ位置の各要素同士で演算が行われます。  "
   ]
  },
  {
   "cell_type": "code",
   "execution_count": null,
   "metadata": {},
   "outputs": [],
   "source": [
    "b = np.array([[0, 1, 2], [3, 4, 5]])  # 2次元配列\n",
    "c = np.array([[2, 0, 1], [5, 3, 4]])  # 2次元配列\n",
    "\n",
    "print(b)\n",
    "print()\n",
    "print(c)\n",
    "print()\n",
    "print(b + c)\n",
    "print()\n",
    "print(b * c)"
   ]
  },
  {
   "cell_type": "markdown",
   "metadata": {},
   "source": [
    "### 関数と配列\n",
    "\n",
    "関数の引数や返り値としてNumPyの配列を使うことができます。  \n",
    "以下の関数`my_func`は、引数として配列を受け取り、返り値として配列を返しています。"
   ]
  },
  {
   "cell_type": "code",
   "execution_count": null,
   "metadata": {},
   "outputs": [],
   "source": [
    "import numpy as np\n",
    "\n",
    "def my_func(x):\n",
    "    y = x * 2 + 1\n",
    "    return y\n",
    "\n",
    "a = np.array([[0, 1, 2], [3, 4, 5]])  # 2次元配列\n",
    "b = my_func(a)  # 引数として配列を渡す\n",
    "\n",
    "print(b)"
   ]
  },
  {
   "cell_type": "markdown",
   "metadata": {},
   "source": [
    "### NumPyの様々な機能\n",
    "\n",
    "sumにより合計、averageにより平均、maxにより最大値、minにより最小値を得ることができます。"
   ]
  },
  {
   "cell_type": "code",
   "execution_count": null,
   "metadata": {},
   "outputs": [],
   "source": [
    "import numpy as np\n",
    "\n",
    "a = np.array([[0, 1, 2], [3, 4, 5]])  # 2次元配列\n",
    "\n",
    "print(np.sum(a))\n",
    "print(np.average(a))\n",
    "print(np.max(a))\n",
    "print(np.min(a))"
   ]
  },
  {
   "cell_type": "markdown",
   "metadata": {},
   "source": [
    "### 演習:\n",
    "\n",
    "以下のセルにNumPyの2次元配列を2つ記述して、それぞれの和、差、積を求めてみましょう。"
   ]
  },
  {
   "cell_type": "code",
   "execution_count": null,
   "metadata": {
    "collapsed": true
   },
   "outputs": [],
   "source": []
  }
 ],
 "metadata": {
  "kernelspec": {
   "display_name": "Python 3",
   "language": "python",
   "name": "python3"
  },
  "language_info": {
   "codemirror_mode": {
    "name": "ipython",
    "version": 3
   },
   "file_extension": ".py",
   "mimetype": "text/x-python",
   "name": "python",
   "nbconvert_exporter": "python",
   "pygments_lexer": "ipython3",
   "version": "3.5.4"
  }
 },
 "nbformat": 4,
 "nbformat_minor": 2
}
