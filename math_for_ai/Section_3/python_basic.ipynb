{
 "cells": [
  {
   "cell_type": "markdown",
   "metadata": {},
   "source": [
    "# Pythonの基礎\n",
    "本コースを進める上で、必要最低限のPythonの文法を学びます。  \n",
    "ここで解説するのは、Pythonの文法のごく一部にしか過ぎませんのでご注意ください。"
   ]
  },
  {
   "cell_type": "markdown",
   "metadata": {},
   "source": [
    "### Pythonとは\n",
    "\n",
    "Pythonはシンプルで可読性が高く、比較的扱いやすいプログラミング言語です。オープンソースで誰でも無料でダウンロードすることができるので、世界中で広く使用されています。    \n",
    "\n",
    "他の言語と比較した場合、数値計算やデータ解析に強みがあり、専門のプログラマーでなくても手軽にコードを書くことができるので、現在人工知能の開発でスタンダードとなっています。  \n",
    "\n",
    "文法が簡潔なので、初めてプログラミングに取り組む方にも、Pythonはお勧めできます。  \n",
    "その一方で、Pythonはオブジェクト指向に対応しており、高度に抽象化されたコードを書くことも可能です。  \n",
    "\n",
    "本コースではオブジェクト指向は使用せずに、Pythonの基本的な文法のみで数学を学びます。  \n",
    "本格的にPythonを学びたい方には、他のコースを合わせて受講することをお勧めします。"
   ]
  },
  {
   "cell_type": "markdown",
   "metadata": {},
   "source": [
    "### 変数\n",
    "Pythonでは、変数に様々な値を入れることができます。\n",
    "変数に値を入れる場合は、次のように記述します。\n",
    "\n",
    "**変数名 = 値**\n",
    "\n",
    "以下は様々な変数です。  \n",
    "変数名には、数字や_（アンダーバー）を使うこともできます。"
   ]
  },
  {
   "cell_type": "code",
   "execution_count": 28,
   "metadata": {
    "collapsed": true
   },
   "outputs": [],
   "source": [
    "a = 123                       # 整数\n",
    "b_123 = 123.456               # 小数\n",
    "hello_world = \"Hello World!\"  # 文字列"
   ]
  },
  {
   "cell_type": "markdown",
   "metadata": {},
   "source": [
    "`#`の後に書いた文字は、コメントとして扱われます。   \n",
    "コメントはプログラムとして認識されないので、コードの中にメモを書きたい場合はコメントを使います。"
   ]
  },
  {
   "cell_type": "markdown",
   "metadata": {},
   "source": [
    "### 演算子\n",
    "\n",
    "演算子を使って様々な演算を行うことができます。  \n",
    "以下では、様々な演算の結果を変数に格納し、printで表示しています。"
   ]
  },
  {
   "cell_type": "code",
   "execution_count": 3,
   "metadata": {},
   "outputs": [
    {
     "name": "stdout",
     "output_type": "stream",
     "text": [
      "7\n",
      "-1\n",
      "12\n",
      "0.75\n",
      "81\n"
     ]
    }
   ],
   "source": [
    "a = 3\n",
    "b = 4\n",
    "\n",
    "c = a + b  # 足し算\n",
    "print(c) \n",
    "\n",
    "d = a - b  # 引き算\n",
    "print(d)\n",
    "\n",
    "e = a * b  # 掛け算\n",
    "print(e)\n",
    "\n",
    "f = a / b  # 割り算\n",
    "print(f)\n",
    "\n",
    "g = a ** b  # べき乗（aのb乗）\n",
    "print(g)"
   ]
  },
  {
   "cell_type": "markdown",
   "metadata": {},
   "source": [
    "`+=`などの演算子を使うことで、変数自身に値を足したりすることができます。"
   ]
  },
  {
   "cell_type": "code",
   "execution_count": 8,
   "metadata": {},
   "outputs": [
    {
     "name": "stdout",
     "output_type": "stream",
     "text": [
      "8\n",
      "2\n"
     ]
    }
   ],
   "source": [
    "h = 5\n",
    "h += 3  # h = h + 3と同じ。\n",
    "print(h)\n",
    "\n",
    "i = 5\n",
    "i -= 3  # i = i + 3と同じ\n",
    "print(i)"
   ]
  },
  {
   "cell_type": "markdown",
   "metadata": {},
   "source": [
    "### リスト\n",
    "\n",
    "リストは、複数の値をまとめて扱う場合に使用します。リストは全体を`[]`で囲み、各要素は`,`で区切ります。  "
   ]
  },
  {
   "cell_type": "code",
   "execution_count": 4,
   "metadata": {},
   "outputs": [
    {
     "name": "stdout",
     "output_type": "stream",
     "text": [
      "[1, 2, 3, 4]\n"
     ]
    }
   ],
   "source": [
    "a = [1, 2, 3, 4]\n",
    "print(a)"
   ]
  },
  {
   "cell_type": "markdown",
   "metadata": {},
   "source": [
    "リスト名の直後に [インデックス] をつけると、リストの要素を取り出すことができます。  \n",
    "インデックスは、要素の先頭から0、1、2、3とつけます。"
   ]
  },
  {
   "cell_type": "code",
   "execution_count": 17,
   "metadata": {},
   "outputs": [
    {
     "name": "stdout",
     "output_type": "stream",
     "text": [
      "6\n"
     ]
    }
   ],
   "source": [
    "b = [4, 5, 6, 7]\n",
    "print(b[2])  # 先頭から0、1、2、3とインデックスをつけた場合の、2のインデックスの要素"
   ]
  },
  {
   "cell_type": "markdown",
   "metadata": {},
   "source": [
    "appendでリストに要素を追加することができます。  \n",
    "追加された要素は、リストの一番最後に配置されます。"
   ]
  },
  {
   "cell_type": "code",
   "execution_count": 6,
   "metadata": {},
   "outputs": [
    {
     "name": "stdout",
     "output_type": "stream",
     "text": [
      "[1, 2, 3, 4, 5, 6]\n"
     ]
    }
   ],
   "source": [
    "c = [1, 2, 3, 4, 5]\n",
    "c.append(6)\n",
    "print(c)"
   ]
  },
  {
   "cell_type": "markdown",
   "metadata": {},
   "source": [
    "リストの中にリストを入れて、2重のリストを作ることも可能です。"
   ]
  },
  {
   "cell_type": "code",
   "execution_count": 37,
   "metadata": {},
   "outputs": [
    {
     "name": "stdout",
     "output_type": "stream",
     "text": [
      "[[1, 2, 3], [4, 5, 6]]\n"
     ]
    }
   ],
   "source": [
    "d = [[1, 2, 3], [4, 5, 6]]\n",
    "print(d)"
   ]
  },
  {
   "cell_type": "markdown",
   "metadata": {},
   "source": [
    "### if文\n",
    "\n",
    "if文は、条件分岐のために使用します。    \n",
    "以下は、ifの直後の条件が満たされていれば、その直後のブロックの処理を行う例です。  "
   ]
  },
  {
   "cell_type": "code",
   "execution_count": 18,
   "metadata": {},
   "outputs": [
    {
     "name": "stdout",
     "output_type": "stream",
     "text": [
      "7\n"
     ]
    }
   ],
   "source": [
    "a = 5\n",
    "if a>3:           # aが3よりも大きければ\n",
    "    print(a + 2)  # インデント（半角スペース4つ）を先頭に挿入する\n",
    "else:             # a>3を満たしていなければ\n",
    "    print(a - 2)"
   ]
  },
  {
   "cell_type": "markdown",
   "metadata": {},
   "source": [
    "比較するための演算子には、上記の`>`（大きい）の他に、`<`（小さい）、`>=`（以上）、`<=`（以下）、`==`（等しい）、`!=`（等しくない）があります。"
   ]
  },
  {
   "cell_type": "code",
   "execution_count": 21,
   "metadata": {},
   "outputs": [
    {
     "name": "stdout",
     "output_type": "stream",
     "text": [
      "9\n"
     ]
    }
   ],
   "source": [
    "b = 7\n",
    "if b==7:          # aが7と等しければ\n",
    "    print(b + 2)\n",
    "else:             # a==7を満たしていなければ\n",
    "    print(b - 2)"
   ]
  },
  {
   "cell_type": "markdown",
   "metadata": {},
   "source": [
    "### for文\n",
    "\n",
    "for文により、指定した回数ループすることができます。  \n",
    "以下は、リストを使ったループの例です。"
   ]
  },
  {
   "cell_type": "code",
   "execution_count": 9,
   "metadata": {},
   "outputs": [
    {
     "name": "stdout",
     "output_type": "stream",
     "text": [
      "5\n",
      "8\n",
      "11\n"
     ]
    }
   ],
   "source": [
    "for a in [4, 7, 10]:  # リストを使ったループ\n",
    "    print(a + 1)"
   ]
  },
  {
   "cell_type": "markdown",
   "metadata": {},
   "source": [
    "以下は、rangeを使ったループの例です。  \n",
    "rangeは、0から(指定した値-1)までの範囲を指定します。"
   ]
  },
  {
   "cell_type": "code",
   "execution_count": 22,
   "metadata": {},
   "outputs": [
    {
     "name": "stdout",
     "output_type": "stream",
     "text": [
      "0\n",
      "1\n",
      "2\n",
      "3\n",
      "4\n"
     ]
    }
   ],
   "source": [
    "for a in range(5):  # rangeを使ったループ 0から4までの範囲\n",
    "    print(a)"
   ]
  },
  {
   "cell_type": "markdown",
   "metadata": {},
   "source": [
    "### 関数\n",
    "\n",
    "関数を用いることで、複数行の処理をひとまとめにすることができます。  \n",
    "関数は`def`と書いて、その後に関数名を記述します。"
   ]
  },
  {
   "cell_type": "code",
   "execution_count": 34,
   "metadata": {},
   "outputs": [
    {
     "name": "stdout",
     "output_type": "stream",
     "text": [
      "5\n"
     ]
    }
   ],
   "source": [
    "def my_func_1():  # my_func_1が関数名\n",
    "    a = 2\n",
    "    b = 3\n",
    "    print(a + b)\n",
    "\n",
    "my_func_1()  # 関数の呼び出し"
   ]
  },
  {
   "cell_type": "markdown",
   "metadata": {},
   "source": [
    "関数は、**引数**と呼ばれる値を関数の外部から受け取ることができます。  \n",
    "引数は、関数名の直後の( )の中に設定します。  \n",
    "引数は、,で区切って複数設定することができます。"
   ]
  },
  {
   "cell_type": "code",
   "execution_count": 26,
   "metadata": {},
   "outputs": [
    {
     "name": "stdout",
     "output_type": "stream",
     "text": [
      "7\n"
     ]
    }
   ],
   "source": [
    "def my_func_2(p, q):  # p、qが引数\n",
    "    print(p + q)\n",
    "    \n",
    "my_func_2(3, 4)  # 引数として3と4を渡す"
   ]
  },
  {
   "cell_type": "markdown",
   "metadata": {},
   "source": [
    "関数は、**返り値**と呼ばれる値を関数の外部に渡すことができます。  \n",
    "返り値は、関数の最後にreturnと書いて、その直後に設定します。"
   ]
  },
  {
   "cell_type": "code",
   "execution_count": 30,
   "metadata": {},
   "outputs": [
    {
     "name": "stdout",
     "output_type": "stream",
     "text": [
      "7\n"
     ]
    }
   ],
   "source": [
    "def my_func_3(p, q):  # p、qが引数\n",
    "    r = p + q\n",
    "    return r  # rが返り値\n",
    "\n",
    "k = my_func_3(3, 4)  # 返り値として受け取った値をkに入れる\n",
    "print(k)"
   ]
  },
  {
   "cell_type": "markdown",
   "metadata": {},
   "source": [
    "### 演習:\n",
    "以下のセルに、リスト、if文、for文、関数の例文を最低1つずつ書いてみましょう。"
   ]
  },
  {
   "cell_type": "code",
   "execution_count": 33,
   "metadata": {},
   "outputs": [
    {
     "name": "stdout",
     "output_type": "stream",
     "text": [
      "3\n",
      "\n",
      "7\n",
      "\n",
      "2\n",
      "3\n",
      "4\n",
      "5\n",
      "6\n",
      "\n",
      "7\n"
     ]
    }
   ],
   "source": [
    "my_list = [1, 2, 3, 4, 5]\n",
    "print(my_list[2])\n",
    "\n",
    "print()\n",
    "\n",
    "a = 5\n",
    "b = 2\n",
    "      \n",
    "if a==5:\n",
    "    print(a + b)\n",
    "\n",
    "print()\n",
    "\n",
    "for m in my_list:\n",
    "    print(m + 1)\n",
    "\n",
    "print()\n",
    "\n",
    "def add(p, q):\n",
    "      return p + q\n",
    "\n",
    "print(add(a, b))"
   ]
  }
 ],
 "metadata": {
  "kernelspec": {
   "display_name": "Python 3",
   "language": "python",
   "name": "python3"
  },
  "language_info": {
   "codemirror_mode": {
    "name": "ipython",
    "version": 3
   },
   "file_extension": ".py",
   "mimetype": "text/x-python",
   "name": "python",
   "nbconvert_exporter": "python",
   "pygments_lexer": "ipython3",
   "version": "3.5.4"
  }
 },
 "nbformat": 4,
 "nbformat_minor": 2
}
