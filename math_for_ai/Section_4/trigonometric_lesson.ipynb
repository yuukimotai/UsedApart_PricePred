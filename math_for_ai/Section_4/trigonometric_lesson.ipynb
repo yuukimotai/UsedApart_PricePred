{
 "cells": [
  {
   "cell_type": "markdown",
   "metadata": {},
   "source": [
    "# 三角関数\n",
    "三角関数を用いることで、周期的かつ滑らかに変化する値を扱うことができます。"
   ]
  },
  {
   "cell_type": "markdown",
   "metadata": {},
   "source": [
    "### 三角関数とは？"
   ]
  },
  {
   "cell_type": "markdown",
   "metadata": {},
   "source": [
    "以下のような直角三角形を考えます。\n",
    "<img src=\"images/triangle.png\">\n",
    "\n",
    "この三角形で、角度$\\theta$と各辺の関係を次のように定義します。\n",
    "$$\\sin\\theta = \\frac{b}{c}$$\n",
    "\n",
    "$$\\cos\\theta = \\frac{a}{c}$$\n",
    "\n",
    "$$\\tan\\theta = \\frac{b}{a}$$\n",
    "\n",
    "$\\sin\\theta$、$\\cos\\theta$、$\\tan\\theta$を**三角関数**といいます。\n",
    "三角関数は以下の関係を満たします。\n",
    "\n",
    "$$(\\sin\\theta)^2+(\\cos\\theta)^2 = 1$$\n",
    "\n",
    "$$\\tan\\theta = \\frac{\\sin\\theta}{\\cos\\theta}$$\n",
    "\n",
    "なお、角度$\\theta$の単位はラジアンです。180°をπと表します。"
   ]
  },
  {
   "cell_type": "markdown",
   "metadata": {},
   "source": [
    "### 三角関数を実装\n",
    "数式$y=\\sin\\theta$、$y=\\cos\\theta$をコードで実装します。"
   ]
  },
  {
   "cell_type": "code",
   "execution_count": null,
   "metadata": {},
   "outputs": [],
   "source": []
  },
  {
   "cell_type": "markdown",
   "metadata": {},
   "source": [
    "数式$y=\\tan\\theta$をコードで実装します。"
   ]
  },
  {
   "cell_type": "code",
   "execution_count": null,
   "metadata": {},
   "outputs": [],
   "source": []
  },
  {
   "cell_type": "markdown",
   "metadata": {},
   "source": [
    "### 演習:\n",
    "数式$y=\\sin\\theta$、$y=\\cos\\theta$のグラフを様々なxの範囲で描画しましょう。"
   ]
  },
  {
   "cell_type": "code",
   "execution_count": null,
   "metadata": {},
   "outputs": [],
   "source": [
    "import numpy as np\n",
    "import matplotlib.pyplot as plt\n",
    "\n",
    "def my_sin(x):  \n",
    "    return np.sin(x)  # sin(θ)\n",
    "\n",
    "def my_cos(x):\n",
    "    return np.cos(x)  # cos(θ)\n",
    "\n",
    "x = np.linspace(, )  # 範囲を指定\n",
    "y_sin = my_sin(x)\n",
    "y_cos = my_cos(x)\n",
    "\n",
    "plt.plot(x, y_sin, label=\"sin\")\n",
    "plt.plot(x, y_cos, label=\"cos\")\n",
    "plt.legend()\n",
    "plt.show()"
   ]
  }
 ],
 "metadata": {
  "kernelspec": {
   "display_name": "Python 3",
   "language": "python",
   "name": "python3"
  },
  "language_info": {
   "codemirror_mode": {
    "name": "ipython",
    "version": 3
   },
   "file_extension": ".py",
   "mimetype": "text/x-python",
   "name": "python",
   "nbconvert_exporter": "python",
   "pygments_lexer": "ipython3",
   "version": "3.5.4"
  }
 },
 "nbformat": 4,
 "nbformat_minor": 2
}
