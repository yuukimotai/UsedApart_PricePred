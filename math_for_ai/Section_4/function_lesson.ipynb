{
 "cells": [
  {
   "cell_type": "markdown",
   "metadata": {},
   "source": [
    "# 関数\n",
    "関数は、数式を扱う上で基本となる概念です。"
   ]
  },
  {
   "cell_type": "markdown",
   "metadata": {},
   "source": [
    "### 関数とは？"
   ]
  },
  {
   "cell_type": "markdown",
   "metadata": {},
   "source": [
    "関数とは、ある値$x$を決めるとそれに従属的な値$y$が決まる関係のことです。  \n",
    "例えば、$x$を決めると$y$の値が決定される時、関数$f$を次のように表すことができます。  \n",
    "$$y=f(x)$$\n",
    "これは、$y$が$x$の関数である、ということを意味します。"
   ]
  },
  {
   "cell_type": "markdown",
   "metadata": {},
   "source": [
    "### 関数の例"
   ]
  },
  {
   "cell_type": "markdown",
   "metadata": {},
   "source": [
    "以下に、関数$y=f(x)$の例を示します。\n",
    "\n",
    "$$y=3x$$\n",
    "$$y=3x+2$$\n",
    "$$y=3x^2+2x+1$$\n",
    "\n",
    "これらは全て、$x$の値を決めることで$y$の値が従属的に決まります。"
   ]
  },
  {
   "cell_type": "markdown",
   "metadata": {},
   "source": [
    "### 数学の関数と、プログラミングの関数の違い "
   ]
  },
  {
   "cell_type": "markdown",
   "metadata": {},
   "source": [
    "数学における「関数」と、プログラミングにおける「関数」には同じ名前が使われているので、混乱の元になってしまうかもしれません。  \n",
    "数学における関数は、$y=f(x)$のように表されますが、関数$f$に入る値$x$と、処理が行われた上で関数から出ていく値$y$があります。  \n",
    "\n",
    "プログラミングにおける関数には、関数に入っていく値として引数があり、関数から出ていく値として返り値があります。そういう意味で数学における関数と似ていますが、引数や返り値が無い場合がある点が異なります。  \n",
    "また、本コースではよく数学の「関数」をプログラミングの「関数」として実装しますが、数学の世界と異なりコンピュータでは飛び飛びの値しか表現できないので、あくまで近似にしかすぎません。  \n",
    "\n",
    "このように、数学の関数とプログラミングの関数は共通点もありますが基本的に異なるものなので、違いを把握しておきましょう。"
   ]
  },
  {
   "cell_type": "markdown",
   "metadata": {},
   "source": [
    "### 数学の「関数」を、プログラミングの「関数」で実装\n",
    "数式$y=3x+2$をコードで実装します。"
   ]
  },
  {
   "cell_type": "code",
   "execution_count": null,
   "metadata": {},
   "outputs": [],
   "source": []
  },
  {
   "cell_type": "markdown",
   "metadata": {},
   "source": [
    "### 演習:\n",
    "以下のコードを補完し、数式$y=4x+1$をコードで実装しましょう。"
   ]
  },
  {
   "cell_type": "code",
   "execution_count": null,
   "metadata": {},
   "outputs": [],
   "source": [
    "import numpy as np\n",
    "\n",
    "x = 3\n",
    "\n",
    "def my_func(x):  \n",
    "    return   # 4x + 1\n",
    "\n",
    "y = my_func(x)  # y = f(x)\n",
    "print(y)"
   ]
  },
  {
   "cell_type": "code",
   "execution_count": null,
   "metadata": {
    "collapsed": true
   },
   "outputs": [],
   "source": []
  }
 ],
 "metadata": {
  "kernelspec": {
   "display_name": "Python 3",
   "language": "python",
   "name": "python3"
  },
  "language_info": {
   "codemirror_mode": {
    "name": "ipython",
    "version": 3
   },
   "file_extension": ".py",
   "mimetype": "text/x-python",
   "name": "python",
   "nbconvert_exporter": "python",
   "pygments_lexer": "ipython3",
   "version": "3.5.4"
  }
 },
 "nbformat": 4,
 "nbformat_minor": 2
}
