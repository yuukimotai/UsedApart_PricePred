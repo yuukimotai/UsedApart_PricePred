{
 "cells": [
  {
   "cell_type": "markdown",
   "metadata": {},
   "source": [
    "# 多項式関数\n",
    "多項式関数は、最も基本的な関数です。"
   ]
  },
  {
   "cell_type": "markdown",
   "metadata": {},
   "source": [
    "### 多項式とは？"
   ]
  },
  {
   "cell_type": "markdown",
   "metadata": {},
   "source": [
    "例えば以下のような、複数の項からなる式を**多項式**といいます。\n",
    "$$2x-1$$\n",
    "$$3x^2+2x+1$$\n",
    "$$4x^3+2x^2+x+3$$\n",
    "\n",
    "このような式を用いた関数を**多項式関数**といいます。\n",
    "$$y=2x-1$$\n",
    "$$y=3x^2+2x+1$$\n",
    "$$y=4x^3+2x^2+x+3$$\n",
    "\n",
    "一般化すると、多項式は次のように表すことができます。\n",
    "$$y = a_nx^n+a_{n-1}x^{n-1}+\\cdots+a_1x+ a_0$$\n",
    "このような多項式を、**n次の多項式**といいます。"
   ]
  },
  {
   "cell_type": "markdown",
   "metadata": {},
   "source": [
    "### 多項式を実装\n",
    "数式$y=3x^2+2x+1$をコードで実装します。"
   ]
  },
  {
   "cell_type": "code",
   "execution_count": null,
   "metadata": {},
   "outputs": [],
   "source": []
  },
  {
   "cell_type": "markdown",
   "metadata": {},
   "source": [
    "数式$y=4x^3+2x^2+x+3$をコードで実装します。"
   ]
  },
  {
   "cell_type": "code",
   "execution_count": null,
   "metadata": {},
   "outputs": [],
   "source": []
  },
  {
   "cell_type": "markdown",
   "metadata": {},
   "source": [
    "### 演習:\n",
    "以下のコードを補完し、数式$y=3x^3 - 2x^2 + x + 1$をコードで実装しましょう。"
   ]
  },
  {
   "cell_type": "code",
   "execution_count": null,
   "metadata": {},
   "outputs": [],
   "source": [
    "import numpy as np\n",
    "import matplotlib.pyplot as plt\n",
    "\n",
    "def my_func(x):  \n",
    "    return \n",
    "\n",
    "x = np.linspace(-5, 5)\n",
    "y = my_func(x)  # y = f(x)\n",
    "\n",
    "plt.plot(x, y)\n",
    "plt.show()"
   ]
  },
  {
   "cell_type": "code",
   "execution_count": null,
   "metadata": {
    "collapsed": true
   },
   "outputs": [],
   "source": []
  }
 ],
 "metadata": {
  "kernelspec": {
   "display_name": "Python 3",
   "language": "python",
   "name": "python3"
  },
  "language_info": {
   "codemirror_mode": {
    "name": "ipython",
    "version": 3
   },
   "file_extension": ".py",
   "mimetype": "text/x-python",
   "name": "python",
   "nbconvert_exporter": "python",
   "pygments_lexer": "ipython3",
   "version": "3.5.4"
  }
 },
 "nbformat": 4,
 "nbformat_minor": 2
}
