{
 "cells": [
  {
   "cell_type": "markdown",
   "metadata": {},
   "source": [
    "# LaTeXの基礎\n",
    "LaTeXで数式を美しく記述する方法を学びます。"
   ]
  },
  {
   "cell_type": "markdown",
   "metadata": {},
   "source": [
    "### LaTeXとは？\n",
    "\n",
    "Jupyter notebookでは、LaTeXという文書処理システムを使って数式を記述することができます。  \n",
    "本コースではLaTeXを使って数式を記述します。\n",
    "以下の数式は、LaTeXを使って記述されています。\n",
    "\n",
    "$$y=2x+1$$\n",
    "\n",
    "このセルをダブルクリックして編集モードにし、LaTeXによる記述を確かめてみましょう。  \n",
    "Jupyter notebookでは、二重の$の中に数式を表すLaTeXのコードを記述します。  \n",
    "セルを実行すると再び数式が表示されます。\n",
    "\n",
    "また、このように$y=2x+1$、文章の中に数式を記述することも可能です。  \n",
    "この場合は一重の$の中にコードを記述します。"
   ]
  },
  {
   "cell_type": "markdown",
   "metadata": {},
   "source": [
    "### 様々な数式の記述\n",
    "LaTeXで様々な数式を記述しましょう。  \n",
    "\n",
    "---添字と累乗---\n",
    "\n",
    "\n",
    "---多項式---\n",
    "\n",
    "\n",
    "---平方根---\n",
    "\n",
    "\n",
    "---三角関数---\n",
    "\n",
    "\n",
    "---分数---\n",
    "\n",
    "\n",
    "---総和---\n",
    "\n",
    "\n",
    "---総乗---\n"
   ]
  },
  {
   "cell_type": "markdown",
   "metadata": {},
   "source": [
    "LaTeXには他にも様々な記法があります。  \n",
    "本コースで記法が気になる数式があれば、編集モードにして確かめてみましょう。"
   ]
  },
  {
   "cell_type": "markdown",
   "metadata": {},
   "source": [
    "### 演習:\n",
    "以下の数式を、下のセルにLaTeXで記述してみましょう。このセルは編集モードにしないでください。\n",
    "\n",
    "$$y=x^3 + \\sqrt x + \\frac{a_{ij}}{b_{ij}^4} - \\sum_{k=1}^n a_k$$"
   ]
  },
  {
   "cell_type": "markdown",
   "metadata": {},
   "source": []
  }
 ],
 "metadata": {
  "kernelspec": {
   "display_name": "Python 3",
   "language": "python",
   "name": "python3"
  },
  "language_info": {
   "codemirror_mode": {
    "name": "ipython",
    "version": 3
   },
   "file_extension": ".py",
   "mimetype": "text/x-python",
   "name": "python",
   "nbconvert_exporter": "python",
   "pygments_lexer": "ipython3",
   "version": "3.6.10"
  }
 },
 "nbformat": 4,
 "nbformat_minor": 2
}
