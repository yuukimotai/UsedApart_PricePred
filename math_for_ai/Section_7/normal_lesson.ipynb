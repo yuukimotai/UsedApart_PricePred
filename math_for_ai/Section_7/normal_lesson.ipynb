{
 "cells": [
  {
   "cell_type": "markdown",
   "metadata": {},
   "source": [
    "# 正規分布\n",
    "正規分布は、最もよく使われるデータ分布です。人工知能でも、様々な場面で正規分布は活躍します。"
   ]
  },
  {
   "cell_type": "markdown",
   "metadata": {},
   "source": [
    "### 正規分布とは？\n",
    "\n",
    "正規分布（normal distribution）はガウス分布（Gaussian distribution）とも呼ばれ、自然界や人間の行動・性質など様々な現象に対してよく当てはまるデータの分布です。  \n",
    "例えば、製品のサイズやヒトの身長、テストの成績などは正規分布におおよそ従います。  \n",
    "正規分布は、以下のような釣鐘型のグラフで表されます。\n",
    "\n",
    "<img src=\"images/normal.png\">\n",
    "\n",
    "このグラフにおいて、横軸はある値を、縦軸はその値の頻度や確率を表します。  \n",
    "$\\mu$は平均値で分布の中央になり、$\\sigma$は標準偏差で分布の広がり具合を表します。  \n",
    "\n",
    "正規分布は、以下の確率密度関数と呼ばれる関数で表されます。  \n",
    "\n",
    "$$ y=\\frac{1}{ \\sigma\\sqrt{2\\pi}}\\exp(-\\frac{(x-\\mu)^2}{2\\sigma ^2}) $$ \n",
    "\n",
    "少々複雑な式ですが、平均が0、標準偏差が1とすると次の比較的シンプルな形になります。\n",
    "\n",
    "$$ y=\\frac{1}{\\sqrt{2\\pi}}\\exp(-\\frac{x^2}{2}) $$ "
   ]
  },
  {
   "cell_type": "markdown",
   "metadata": {},
   "source": [
    "### 正規分布の描画\n",
    "確率密度関数を使って、正規分布を描画しましょう。  "
   ]
  },
  {
   "cell_type": "code",
   "execution_count": null,
   "metadata": {},
   "outputs": [],
   "source": [
    "import numpy as np\n",
    "import matplotlib.pyplot as plt\n",
    " \n",
    "sigma = 1  # 標準偏差\n",
    "mu = 0  # 平均値\n",
    "\n",
    "x =np.linspace(-5, 5)\n",
    "  # 確率密度関数\n",
    "\n",
    "plt.plot(x, y)\n",
    "plt.show()"
   ]
  },
  {
   "cell_type": "markdown",
   "metadata": {},
   "source": [
    "### 乱数による正規分布\n",
    "Numpyの`random.normal`関数を使って、正規分布に従う乱数を生成します。  \n",
    "生成したデータは、Matplotlibのhist関数でヒストグラムとして表示します。  "
   ]
  },
  {
   "cell_type": "code",
   "execution_count": null,
   "metadata": {
    "collapsed": true
   },
   "outputs": [],
   "source": [
    "import numpy as np\n",
    "import matplotlib.pyplot as plt\n",
    " \n",
    "# 正規分布に従う乱数を生成 平均0、標準偏差1、10000個\n",
    "\n",
    "\n",
    "# ヒストグラム\n",
    "plt.hist(x, bins=25)  # binsは棒の数\n",
    "plt.show()"
   ]
  },
  {
   "cell_type": "markdown",
   "metadata": {},
   "source": [
    "人工知能の一種、ニューラルネトワークは多くの変動するパラメータを持っていますが、これらのパラメータの初期値は、しばしば正規分布に従ってランダムに決定されます。"
   ]
  },
  {
   "cell_type": "markdown",
   "metadata": {},
   "source": [
    "### 演習:\n",
    "以下のセルを補完して平均値が0、標準偏差が1の乱数を1000個作成し、ヒストグラムで分布を描画しましょう。"
   ]
  },
  {
   "cell_type": "code",
   "execution_count": null,
   "metadata": {
    "collapsed": true
   },
   "outputs": [],
   "source": [
    "import numpy as np\n",
    "import matplotlib.pyplot as plt\n",
    " \n",
    "# 平均0、標準偏差1、1000個\n",
    "\n",
    "\n",
    "# ヒストグラム\n",
    "plt.hist(x, bins=25)\n",
    "plt.show()"
   ]
  }
 ],
 "metadata": {
  "kernelspec": {
   "display_name": "Python 3",
   "language": "python",
   "name": "python3"
  },
  "language_info": {
   "codemirror_mode": {
    "name": "ipython",
    "version": 3
   },
   "file_extension": ".py",
   "mimetype": "text/x-python",
   "name": "python",
   "nbconvert_exporter": "python",
   "pygments_lexer": "ipython3",
   "version": "3.5.4"
  }
 },
 "nbformat": 4,
 "nbformat_minor": 2
}
