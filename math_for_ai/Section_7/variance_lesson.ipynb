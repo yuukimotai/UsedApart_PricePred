{
 "cells": [
  {
   "cell_type": "markdown",
   "metadata": {},
   "source": [
    "# 分散と標準偏差\n",
    "分散と標準偏差は、それぞれデータ特徴を把握するために使用する値の1つです。  \n",
    "どちらも、データの散らばり具合を表します。"
   ]
  },
  {
   "cell_type": "markdown",
   "metadata": {},
   "source": [
    "### 分散とは？\n",
    "\n",
    "分散は、以下の式の$V$で表されます。\n",
    "\n",
    "$$V=\\frac{1}{n}\\sum_{k=1}^n (x_k-\\mu)^2$$\n",
    "\n",
    "この式において、$n$は値の数、$x_k$は値、$\\mu$は平均値です。  \n",
    "平均値との差を2乗し、平均をとっています。  \n",
    "\n",
    "例えば、Aさんの体重が55kg、Bさんは45kg、Cさんは60kg、Dさんが40kgであれば分散は以下ように求めます。\n",
    "\n",
    "$$\\mu = \\frac{55+45+60+40}{4}=50(kg)$$\n",
    "\n",
    "$$V=\\frac{(55-50)^2+(45-50)^2+(60-50)^2+(40-50)^2}{4}=62.5(kg^2)$$\n",
    "\n",
    "次に、Aさんの体重が51kg、Bさんは49kg、Cさんは52kg、Dさんが48kgのケースで分散を求めます。  \n",
    "このケースでは、全体的に値のばらつきが小さくなっています。  \n",
    "\n",
    "$$\\mu = \\frac{51+49+52+48}{4}=50(kg)$$\n",
    "\n",
    "$$V=\\frac{(51-50)^2+(49-50)^2+(52-50)^2+(48-50)^2}{4}=2.5 (kg^2)$$\n",
    "\n",
    "こちらのケースの方が分散が小さくなりました。\n",
    "\n",
    "以上のように、分散は値のばらつき具合を表す指標です。"
   ]
  },
  {
   "cell_type": "markdown",
   "metadata": {},
   "source": [
    "### 分散を実装\n",
    "NumPyのvar関数で、分散を求めることができます。  "
   ]
  },
  {
   "cell_type": "code",
   "execution_count": null,
   "metadata": {},
   "outputs": [],
   "source": [
    "import numpy as np\n",
    "\n",
    "x = np.array([55, 45, 60, 40])  # 分散をとるデータ\n",
    "\n"
   ]
  },
  {
   "cell_type": "markdown",
   "metadata": {},
   "source": [
    "### 標準偏差とは？\n",
    "\n",
    "標準偏差は、以下のように分散の平方根により求めます。\n",
    "\n",
    "$$\\sigma = \\sqrt V=\\sqrt{\\frac{1}{n}\\sum_{k=1}^n (x_k-\\mu)^2}$$\n",
    "\n",
    "例えば、Aさんの体重が55kg、Bさんは45kg、Cさんは60kg、Dさんが40kgであれば標準偏差は以下ように求めます。\n",
    "\n",
    "$$\\mu = \\frac{55+45+60+40}{4}=50 (kg)$$\n",
    "\n",
    "$$\\sigma=\\sqrt{\\frac{(55-50)^2+(45-50)^2+(60-50)^2+(40-50)^2}{4}}\\fallingdotseq7.91 (kg\n",
    ")$$\n",
    "\n",
    "標準偏差も、分散と同様に値のばらつき具合の指標です。  \n",
    "標準偏差は単位の次元が元の値と同じなので、値の散らばり具合を直感的に表現する際には標準偏差が適している場合が多いです。"
   ]
  },
  {
   "cell_type": "markdown",
   "metadata": {},
   "source": [
    "### 標準偏差を実装\n",
    "標準偏差は、Numpyのstd関数を用いて求めることができます。"
   ]
  },
  {
   "cell_type": "code",
   "execution_count": null,
   "metadata": {},
   "outputs": [],
   "source": [
    "import numpy as np\n",
    "\n",
    "x = np.array([55, 45, 60, 40])  # 標準偏差をとるデータ\n",
    "\n"
   ]
  },
  {
   "cell_type": "markdown",
   "metadata": {},
   "source": [
    "### 演習:\n",
    "以下のセルにおける、配列`x`の分散と標準偏差を求めましょう。"
   ]
  },
  {
   "cell_type": "code",
   "execution_count": null,
   "metadata": {},
   "outputs": [],
   "source": [
    "import numpy as np\n",
    "\n",
    "x = np.array([51, 49, 52, 48])  # 分散と標準偏差をとるデータ\n",
    "\n"
   ]
  }
 ],
 "metadata": {
  "kernelspec": {
   "display_name": "Python 3",
   "language": "python",
   "name": "python3"
  },
  "language_info": {
   "codemirror_mode": {
    "name": "ipython",
    "version": 3
   },
   "file_extension": ".py",
   "mimetype": "text/x-python",
   "name": "python",
   "nbconvert_exporter": "python",
   "pygments_lexer": "ipython3",
   "version": "3.5.4"
  }
 },
 "nbformat": 4,
 "nbformat_minor": 2
}
