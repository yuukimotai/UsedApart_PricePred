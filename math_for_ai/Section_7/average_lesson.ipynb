{
 "cells": [
  {
   "cell_type": "markdown",
   "metadata": {},
   "source": [
    "# 平均値と期待値\n",
    "平均値と期待値は、それぞれデータ特徴を把握するために使用する値の1つです。  \n",
    "実は、平均値と期待値は同じものを指しています。"
   ]
  },
  {
   "cell_type": "markdown",
   "metadata": {},
   "source": [
    "### 平均値とは？\n",
    "\n",
    "**平均値**は、複数の値を足し合わせて値の数で割って求めます。  \n",
    "以下は、$n$個の値の平均を求める式です。  \n",
    "\n",
    "$$ \\begin{aligned} \\\\\n",
    "\\mu &= \\frac{x_1 + x_2 + \\cdots + x_n}{n} \\\\\n",
    "&= \\frac{1}{n}\\sum_{k=1}^n x_k\n",
    "\\end{aligned} $$\n",
    "\n",
    "例えば、Aさんの体重が55kg、Bさんは45kg、Cさんは60kg、Dさんが40kgであれば、4人の平均体重は以下の通りになります。\n",
    "\n",
    "$$\\frac{55 + 45 + 60 + 40}{4} = 50(kg)$$\n",
    "\n",
    "平均値は、複数の値からなるデータを代表する値の1つです。"
   ]
  },
  {
   "cell_type": "markdown",
   "metadata": {},
   "source": [
    "### 平均値を実装\n",
    "NumPyのaverage関数で、平均値を求めることができます。  "
   ]
  },
  {
   "cell_type": "code",
   "execution_count": null,
   "metadata": {},
   "outputs": [],
   "source": [
    "import numpy as np\n",
    "\n",
    "x = np.array([55, 45, 60, 40])  # 平均をとるデータ\n",
    "\n"
   ]
  },
  {
   "cell_type": "markdown",
   "metadata": {},
   "source": [
    "### 期待値とは？\n",
    "\n",
    "試行により、次の値のうちいずれかが得られるものとします。\n",
    "\n",
    "$$x_1,x_2,\\cdots ,x_n$$\n",
    "\n",
    "そして、それぞれの値は次の確率で得られるものとします。\n",
    "\n",
    "$$P_1,P_2,\\cdots ,P_n$$\n",
    "\n",
    "このとき、以下のように表される値$E$を、**期待値**といいます。\n",
    "\n",
    "$$E=\\sum_{k=1}^n P_kx_k$$\n",
    "\n",
    "期待値とは、大まかに言って得られる値の「見込み」のことです。  \n",
    "例えば、くじを引いて80%の確率で100円が、15%の確率で500円が、5%の確率で1000円が当たるとき、期待値は以下の通りになります。\n",
    "\n",
    "$$ \\begin{aligned} \\\\\n",
    "E &= 0.8\\times 100 + 0.15\\times 500 + 0.05\\times 1000\\\\\n",
    "&= 205\n",
    "\\end{aligned} $$\n",
    "\n",
    "従って、このくじの期待値は205円であり、くじを引くことで205円程度の収益が見込まれることになります。"
   ]
  },
  {
   "cell_type": "markdown",
   "metadata": {},
   "source": [
    "### 期待値を実装\n",
    "期待値は、Numpyのsum関数を用いて実装することができます。"
   ]
  },
  {
   "cell_type": "code",
   "execution_count": null,
   "metadata": {},
   "outputs": [],
   "source": [
    "import numpy as np\n",
    "\n",
    "p = np.array([0.8, 0.15, 0.05])  # 確率\n",
    "x = np.array([100, 500, 1000])  # 値\n",
    "\n"
   ]
  },
  {
   "cell_type": "markdown",
   "metadata": {},
   "source": [
    "### 平均値と期待値の関係\n",
    "\n",
    "値が重複する場合の平均値は、以下のように表すことができます。\n",
    "\n",
    "（式 1）\n",
    "$$ \\frac{1}{n}\\sum_{k=1}^m n_kx_k $$\n",
    "\n",
    "この式で、$n_k$は$x_k$の個数で、$m$は値の種類の数です。\n",
    "$n_k$は以下の関係を満たしています。\n",
    "\n",
    "$$\\sum_{k=1}^m n_k= n$$\n",
    "\n",
    "（式 1）を次のように変形します。\n",
    "\n",
    "$$ \\sum_{k=1}^m \\frac{n_k}{n}x_k $$\n",
    "\n",
    "ここで、$\\frac{n_k}{n}$はその値が選択される確率と考えることができるので、$P_k$とおきます。\n",
    "このとき、上記の式は次のようになります。\n",
    "\n",
    "$$ \\sum_{k=1}^m P_k x_k $$\n",
    "\n",
    "期待値の式と同じになりましたね。  \n",
    "このように、実は平均値と期待値は同じものを意味しています。\n",
    "\n",
    "人工知能関連の書籍などでは、平均値と期待値が同じ意味で使われることがあるので注意しましょう。"
   ]
  },
  {
   "cell_type": "markdown",
   "metadata": {},
   "source": [
    "### 演習:\n",
    "以下のセルで、配列`p`は確率、配列`x`は確率`p`で得られる値とします。  \n",
    "この場合の期待値を計算しましょう。"
   ]
  },
  {
   "cell_type": "code",
   "execution_count": null,
   "metadata": {},
   "outputs": [],
   "source": [
    "import numpy as np\n",
    "import matplotlib.pyplot as plt\n",
    "\n",
    "p = np.array([0.75, 0.23, 0.02])  # 確率\n",
    "x = np.array([100, 500, 10000])  # 値\n",
    "\n",
    "  # 期待値"
   ]
  }
 ],
 "metadata": {
  "kernelspec": {
   "display_name": "Python 3",
   "language": "python",
   "name": "python3"
  },
  "language_info": {
   "codemirror_mode": {
    "name": "ipython",
    "version": 3
   },
   "file_extension": ".py",
   "mimetype": "text/x-python",
   "name": "python",
   "nbconvert_exporter": "python",
   "pygments_lexer": "ipython3",
   "version": "3.5.4"
  }
 },
 "nbformat": 4,
 "nbformat_minor": 2
}
