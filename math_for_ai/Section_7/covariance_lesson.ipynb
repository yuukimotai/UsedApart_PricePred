{
 "cells": [
  {
   "cell_type": "markdown",
   "metadata": {},
   "source": [
    "# 共分散\n",
    "共分散は、2組のデータの関係性を表す数値です。  \n",
    "人工知能に使用するデータの前処理などで使用されます。"
   ]
  },
  {
   "cell_type": "markdown",
   "metadata": {},
   "source": [
    "### 共分散とは？\n",
    "\n",
    "以下の$X$、$Y$2組のデータを考えます。それぞれ、データの個数は$n$とします。\n",
    "\n",
    "$$X=x_1,x_2,\\cdots ,x_n$$\n",
    "$$Y=y_1,y_2,\\cdots ,y_n$$\n",
    "\n",
    "これらのデータの共分散$Cov(X,Y)$は、以下の式で表されます。\n",
    "\n",
    "（式 1）\n",
    "$$Cov(X,Y)=\\frac{1}{n}\\sum_{k=1}^n (x_k-\\mu_x)(y_k-\\mu_y)$$\n",
    "\n",
    "ここで、$\\mu_x$は$X$の平均、$\\mu_y$は$Y$の平均です。\n",
    "\n",
    "共分散の意味は、次のようになります。  \n",
    "\n",
    "共分散が大きい（正）: Xが大きいとYも大きい、Xが小さいとYも小さい傾向がある  \n",
    "共分散が 0 に近い: XとYにあまり関係はない  \n",
    "共分散が小さい（負）: Xが大きいとYは小さい、Xが小さいとYは大きい傾向がある  \n",
    "\n",
    "これだけだと分かりにくいので、例を挙げて考えてみましょう。"
   ]
  },
  {
   "cell_type": "markdown",
   "metadata": {},
   "source": [
    "### 共分散の例\n",
    " \n",
    "以下の$X$を数学の点数、$Y$を英語の点数とします。\n",
    "\n",
    "$$X=50, 70, 40, 60, 80$$\n",
    "$$Y=60, 80, 50, 50, 70$$\n",
    "\n",
    "それぞれのデータの個数は5なので、$X$と$Y$の平均値は以下の通りになります。\n",
    "\n",
    "$$\\mu_x = \\frac{50+70+40+60+80}{5} = 60$$\n",
    "$$\\mu_y = \\frac{60+80+50+50+70}{5} = 62$$\n",
    "\n",
    "このとき、共分散は（式 1）により以下の通りに求めることができます。\n",
    "\n",
    "$$ \\begin{aligned} \\\\\n",
    "Cov(X,Y) &= \\frac{(50-60)(60-62)+(70-60)(80-62)+(40-60)(50-62)+(60-60)(50-62)+(80-60)(70-62)}{5} \\\\\n",
    "& = 120\n",
    "\\end{aligned} $$\n",
    "\n",
    "以上により、このケースにおける共分散は、正の値の120となりました。 \n",
    "これは、数学の点数が高いと英語の点数も高い傾向があることを意味します。\n",
    "\n",
    "もう一つの例を考えます。以下の$X$を数学の点数、$Z$を国語の点数とします。\n",
    "\n",
    "$$X=50, 70, 40, 60, 80$$\n",
    "$$Z=60, 40, 60, 40, 30$$\n",
    "\n",
    "それぞれのデータの個数は5なので、$X$と$Z$の平均値は以下の通りになります。\n",
    "\n",
    "$$\\mu_x = \\frac{50+70+40+60+80}{5} = 60$$\n",
    "$$\\mu_z = \\frac{60+40+60+40+30}{5} = 46$$\n",
    "\n",
    "このとき、共分散は（式 1）により以下の通りに求めることができます。\n",
    "\n",
    "$$ \\begin{aligned} \\\\\n",
    "Cov(X,Y) &= \\frac{(50-60)(60-46)+(70-60)(40-46)+(40-60)(60-46)+(60-60)(40-46)+(80-60)(30-46)}{5} \\\\\n",
    "& = -160\n",
    "\\end{aligned} $$\n",
    "\n",
    "このケースにおける共分散は、負の値-160となりました。  \n",
    "これは、数学の点数が高いと国語の点数が低い傾向があることを意味します。  \n",
    "\n",
    "以上のように、共分散は2つのデータ間の関係を表す指標です。"
   ]
  },
  {
   "cell_type": "markdown",
   "metadata": {},
   "source": [
    "### 共分散の実装\n",
    "共分散を、NumPyのaverage関数を使って求めます。  \n",
    "また、グラフを使って2つのデータの関係を可視化します。  "
   ]
  },
  {
   "cell_type": "code",
   "execution_count": null,
   "metadata": {},
   "outputs": [],
   "source": [
    "import numpy as np\n",
    "import matplotlib.pyplot as plt\n",
    " \n",
    "x = np.array([50, 70, 40, 60, 80])  # 数学の点数\n",
    "y = np.array([60, 80, 50, 50, 70])  # 英語の点数\n",
    "z = np.array([60, 40, 60, 40, 30])  # 国語の点数\n",
    "\n",
    "cov_xy = \n",
    "print(\"cov_xy\", cov_xy)\n",
    "\n",
    "cov_xz = \n",
    "print(\"cov_xz\", cov_xz)\n",
    "\n",
    "plt.scatter(x, y, marker=\"+\", label=\"xy\")\n",
    "plt.scatter(x, z, marker=\"x\", label=\"xz\")\n",
    "plt.legend()\n",
    "plt.show()"
   ]
  },
  {
   "cell_type": "markdown",
   "metadata": {},
   "source": [
    "### 演習:\n",
    "以下のセルを補完し、世界史と日本史の点数の共分散を求めましょう。"
   ]
  },
  {
   "cell_type": "code",
   "execution_count": null,
   "metadata": {},
   "outputs": [],
   "source": [
    "import numpy as np\n",
    "import matplotlib.pyplot as plt\n",
    " \n",
    "x = np.array([30, 70, 40, 60, 90])  # 世界史の点数\n",
    "y = np.array([20, 60, 50, 40, 80])  # 日本史の点数\n",
    "\n",
    "cov_xy =   # 共分散\n",
    "print(\"cov_xy\", cov_xy)\n",
    "\n",
    "plt.scatter(x, y, marker=\"+\", label=\"xy\")\n",
    "plt.legend()\n",
    "plt.show()"
   ]
  },
  {
   "cell_type": "code",
   "execution_count": null,
   "metadata": {
    "collapsed": true
   },
   "outputs": [],
   "source": []
  }
 ],
 "metadata": {
  "kernelspec": {
   "display_name": "Python 3",
   "language": "python",
   "name": "python3"
  },
  "language_info": {
   "codemirror_mode": {
    "name": "ipython",
    "version": 3
   },
   "file_extension": ".py",
   "mimetype": "text/x-python",
   "name": "python",
   "nbconvert_exporter": "python",
   "pygments_lexer": "ipython3",
   "version": "3.6.10"
  }
 },
 "nbformat": 4,
 "nbformat_minor": 2
}
