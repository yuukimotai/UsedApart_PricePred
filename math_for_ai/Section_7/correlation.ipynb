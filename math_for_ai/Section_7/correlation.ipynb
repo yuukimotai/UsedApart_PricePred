{
 "cells": [
  {
   "cell_type": "markdown",
   "metadata": {},
   "source": [
    "# 相関係数\n",
    "相関係数は、2グループのデータの関係を表します。  \n",
    "相関係数は、共分散よりも関係の大きさを比較しやすい指標です。"
   ]
  },
  {
   "cell_type": "markdown",
   "metadata": {},
   "source": [
    "### 相関係数とは？\n",
    "\n",
    "以下の$X$、$Y$2組のデータを考えます。それぞれ、データの個数は$n$とします。\n",
    "\n",
    "$$X=x_1,x_2,\\cdots ,x_n$$\n",
    "$$Y=y_1,y_2,\\cdots ,y_n$$\n",
    "\n",
    "これらのデータの相関係数$\\rho$は、XとYの共分散$\\sigma_{XY}$およびXとYそれぞれの標準偏差$\\sigma_X$、$\\sigma_Y$を用いて次のように表されます。\n",
    "\n",
    "（式 1）\n",
    "$$\\rho=\\frac{\\sigma_{XY}}{\\sigma_X\\sigma_Y}$$\n",
    "\n",
    "このとき、相関係数$\\rho$は$-1\\leqq \\rho \\leqq 1$の値をとります。\n",
    "\n",
    "相関係数は+1に近づくと正の相関が強く、Xが大きくなるとYが大きくなる傾向が強くなります。  \n",
    "相関係数が0の場合、XとYには関係がありません。  \n",
    "相関係数は-1に近づくと負の相関が強く、Xが大きくなるとYが小さくなる傾向が強くなります。  \n",
    "\n",
    "相関係数は共分散と似ていますが、どのようなケースでも範囲が$-1\\leqq \\rho \\leqq 1$に収まるため、関係の強さを比較しやすいのがメリットです。"
   ]
  },
  {
   "cell_type": "markdown",
   "metadata": {},
   "source": [
    "### 相関係数の例\n",
    " \n",
    "以下の$X$を数学の点数、$Y$を英語の点数とします。\n",
    "\n",
    "$$X=50, 70, 40, 60, 80$$\n",
    "$$Y=60, 80, 50, 50, 70$$\n",
    "\n",
    "このとき、$X$と$Y$の共分散、およびそれぞれの標準偏差は以下の通りに求まります。  \n",
    "\n",
    "$$\\sigma_{XY} = 120$$\n",
    "$$\\sigma_X = 14.14...$$\n",
    "$$\\sigma_Y = 11.66...$$\n",
    "\n",
    "このとき、相関係数は（式 1）により以下の通りに求めることができます。\n",
    "\n",
    "$$ \\begin{aligned} \\\\\n",
    "\\rho &= \\frac{\\sigma_{XY}}{\\sigma_X\\sigma_Y} \\\\\n",
    "&= \\frac{120}{14.14...\\times 11.66...} \\\\\n",
    "&= 0.7276...\n",
    "\\end{aligned} $$\n",
    "\n",
    "以上により、このケースにおける相関係数は、正の値の約0.728となりました。 \n",
    "これは正の相関であり、数学の点数が高いと英語の点数も高い傾向があることを意味します。\n",
    "\n",
    "もう一つの例を考えます。以下の$X$を数学の点数、$Z$を国語の点数とします。\n",
    "\n",
    "$$X=50, 70, 40, 60, 80$$\n",
    "$$Z=60, 40, 60, 40, 30$$\n",
    "\n",
    "このとき、$X$と$Y$の共分散、およびそれぞれの標準偏差は以下の通りに求まります。  \n",
    "\n",
    "$$\\sigma_{XZ} = -160$$\n",
    "$$\\sigma_X = 14.14...$$\n",
    "$$\\sigma_Z = 12.0$$\n",
    "\n",
    "このとき、相関係数は（式 1）により以下の通りに求めることができます。\n",
    "\n",
    "$$ \\begin{aligned} \\\\\n",
    "\\rho &= \\frac{\\sigma_{XY}}{\\sigma_X\\sigma_Y} \\\\\n",
    "&= \\frac{-160}{14.14...\\times 12.0} \\\\\n",
    "&= -0.9428...\n",
    "\\end{aligned} $$\n",
    "\n",
    "このケースにおける相関係数は、負の値の約-0.943となりました。  \n",
    "これは強い負の相関であり、数学の点数が高いと国語の点数が低い傾向があることを意味します。  \n",
    "\n",
    "以上のように、相関係数はどのようなケースであっても2つのデータの関係の強さを$-1\\leqq \\rho \\leqq 1$で表すことができます。"
   ]
  },
  {
   "cell_type": "markdown",
   "metadata": {},
   "source": [
    "### Pythonで相関係数を求める\n",
    "相関係数は、Numpyのcorrcoef関数を用いて実装することができます。  \n",
    "共分散と標準偏差を使って計算した値と比較してみましょう。  "
   ]
  },
  {
   "cell_type": "code",
   "execution_count": 13,
   "metadata": {},
   "outputs": [
    {
     "name": "stdout",
     "output_type": "stream",
     "text": [
      "[[ 1.          0.72760688]\n",
      " [ 0.72760688  1.        ]]\n",
      "0.727606875109\n"
     ]
    },
    {
     "data": {
      "image/png": "[encoded data removed]",
      "text/plain": [
       "<matplotlib.figure.Figure at 0x117e5ab00>"
      ]
     },
     "metadata": {},
     "output_type": "display_data"
    }
   ],
   "source": [
    "import numpy as np\n",
    "import matplotlib.pyplot as plt\n",
    " \n",
    "x = np.array([50, 70, 40, 60, 80])  # 数学の点数\n",
    "y = np.array([60, 80, 50, 50, 70])  # 英語の点数\n",
    "\n",
    "print(np.corrcoef(x, y))  # 相関係数\n",
    "\n",
    "cov_xy = np.average((x-np.average(x))*(y-np.average(y)))\n",
    "print(cov_xy/(np.std(x)*np.std(y)))  # （式 1）\n",
    "\n",
    "plt.scatter(x, y)\n",
    "plt.show()"
   ]
  },
  {
   "cell_type": "markdown",
   "metadata": {},
   "source": [
    "### 演習:\n",
    "以下のセルを補完し、Numpyのcorrcoef関数を用いて相関係数を求めましょう。    \n",
    "また、共分散と標準偏差を使って相関係数を求め、計算した値と比較してみましょう。 "
   ]
  },
  {
   "cell_type": "code",
   "execution_count": 14,
   "metadata": {},
   "outputs": [
    {
     "name": "stdout",
     "output_type": "stream",
     "text": [
      "[[ 1.          0.88975652]\n",
      " [ 0.88975652  1.        ]]\n",
      "0.889756521003\n"
     ]
    },
    {
     "data": {
      "image/png": "[encoded data removed]",
      "text/plain": [
       "<matplotlib.figure.Figure at 0x1182c65f8>"
      ]
     },
     "metadata": {},
     "output_type": "display_data"
    }
   ],
   "source": [
    "import numpy as np\n",
    "import matplotlib.pyplot as plt\n",
    "\n",
    "x = np.array([30, 70, 40, 60, 90])  # 世界史の点数\n",
    "y = np.array([20, 60, 50, 40, 80])  # 日本史の点数\n",
    "\n",
    "print(np.corrcoef(x, y))  # corrcoefで相関係数を求めて表示\n",
    "\n",
    "cov_xy = np.average((x-np.average(x))*(y-np.average(y)))\n",
    "print(cov_xy/(np.std(x)*np.std(y)))  # （式 1）で相関係数を求めて表示\n",
    "\n",
    "plt.scatter(x, y)\n",
    "plt.show()"
   ]
  }
 ],
 "metadata": {
  "kernelspec": {
   "display_name": "Python 3",
   "language": "python",
   "name": "python3"
  },
  "language_info": {
   "codemirror_mode": {
    "name": "ipython",
    "version": 3
   },
   "file_extension": ".py",
   "mimetype": "text/x-python",
   "name": "python",
   "nbconvert_exporter": "python",
   "pygments_lexer": "ipython3",
   "version": "3.7.1"
  }
 },
 "nbformat": 4,
 "nbformat_minor": 2
}
