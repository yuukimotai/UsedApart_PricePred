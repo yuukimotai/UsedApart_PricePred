{
 "cells": [
  {
   "cell_type": "markdown",
   "metadata": {},
   "source": [
    "# 尤度\n",
    "尤度（ゆうど）は、人工知能においてデータの尤も（もっとも）らしさを表すのに用います。  "
   ]
  },
  {
   "cell_type": "markdown",
   "metadata": {},
   "source": [
    "### 尤度とは？\n",
    "\n",
    "以下のn個のデータを考えます。  \n",
    "\n",
    "$$x_1,x_2,\\cdots ,x_n$$\n",
    "\n",
    "これらの値が生じる確率を次のように表します。\n",
    "\n",
    "$$p(x_1),p(x_2),\\cdots ,p(x_n)$$\n",
    "\n",
    "\n",
    "このとき、**尤度**は次の通りに表されます。\n",
    "\n",
    "$$p(x_1)p(x_2)\\cdots p(x_n) = \\prod_{k=1}^n p(x_k)$$\n",
    "\n",
    "尤度は全てのデータの確率の積です。 \n",
    "\n",
    "ここで、確率度密度関数を復習しましょう。  \n",
    "正規分布に従う確率は、以下の確率密度関数で表されます。  \n",
    "$\\mu$は平均値で、$\\sigma$は標準偏差です。  \n",
    "\n",
    "$$ p(x)=\\frac{1}{ \\sigma\\sqrt{2\\pi}}\\exp(-\\frac{(x-\\mu)^2}{2\\sigma ^2}) $$ \n",
    "\n",
    "この確率密度関数を使って、尤度を次のように表すことができます。  \n",
    "\n",
    "$$\\prod_{k=1}^n p(x_k) = \\prod_{k=1}^n\\frac{1}{ \\sigma\\sqrt{2\\pi}}\\exp(-\\frac{(x_k-\\mu)^2}{2\\sigma ^2})$$"
   ]
  },
  {
   "cell_type": "markdown",
   "metadata": {},
   "source": [
    "### 尤度の意味\n",
    " \n",
    "以下のようにデータと確率密度関数を描画します。"
   ]
  },
  {
   "cell_type": "code",
   "execution_count": null,
   "metadata": {},
   "outputs": [],
   "source": [
    "import numpy as np\n",
    "import matplotlib.pyplot as plt\n",
    "\n",
    "x_data = np.array([2.4, 1.2, 3.5, 2.1, 4.7])\n",
    "y_data = np.zeros(5)\n",
    " \n",
    "sigma = 1  # 標準偏差\n",
    "mu = 0     # 平均値\n",
    "\n",
    "def pdf(x):\n",
    "    return 1/(sigma*np.sqrt(2*np.pi))*np.exp(-(x-mu)**2 / (2*sigma**2))  # 確率密度関数\n",
    "\n",
    "x_pdf = np.linspace(-5, 5)\n",
    "y_pdf = pdf()\n",
    "\n",
    "plt.scatter(x_data, y_data)\n",
    "plt.plot(x_pdf, y_pdf)\n",
    "plt.show()"
   ]
  },
  {
   "cell_type": "markdown",
   "metadata": {},
   "source": [
    "データが正規分布から外れていますね。  \n",
    "このような正規分布を想定する場合、このデータはあまりもっともらしくありません。  \n",
    "尤度は次のように求めることができます。"
   ]
  },
  {
   "cell_type": "code",
   "execution_count": null,
   "metadata": {},
   "outputs": [],
   "source": [
    "import numpy as np\n",
    "\n",
    "x_data = np.array([2.4, 1.2, 3.5, 2.1, 4.7])\n",
    " \n",
    "sigma = 1  # 標準偏差\n",
    "mu = 0     # 平均値\n",
    "\n",
    "def pdf(x):\n",
    "    return 1/(sigma*np.sqrt(2*np.pi))*np.exp(-(x-mu)**2 / (2*sigma**2))  # 確率密度関数\n",
    "\n",
    "p = pdf()    # 確率\n",
    "print()  # 総乗により尤度を計算"
   ]
  },
  {
   "cell_type": "markdown",
   "metadata": {},
   "source": [
    "尤度はとても小さい値になりましたね。  \n",
    "先ほどの正規分布に対して、データはあまりもっともらしくないといえます。  \n",
    "\n",
    "次に、確率密度関数の標準偏差と平均値を変更します。  \n",
    "標準偏差と平均値をデータのものにします。  "
   ]
  },
  {
   "cell_type": "code",
   "execution_count": null,
   "metadata": {},
   "outputs": [],
   "source": [
    "import numpy as np\n",
    "import matplotlib.pyplot as plt\n",
    "\n",
    "x_data = np.array([2.4, 1.2, 3.5, 2.1, 4.7])\n",
    "y_data = np.zeros(5)\n",
    " \n",
    "sigma = np.std()   # 標準偏差をデータのものに\n",
    "mu = np.average()  # 平均値をデータのものに\n",
    "\n",
    "def pdf(x):\n",
    "    return 1/(sigma*np.sqrt(2*np.pi))*np.exp(-(x-mu)**2 / (2*sigma**2))  # 確率密度関数\n",
    "\n",
    "x_pdf = np.linspace(-3, 7)\n",
    "y_pdf = pdf(x_pdf)\n",
    "\n",
    "plt.scatter(x_data, y_data)\n",
    "plt.plot(x_pdf, y_pdf)\n",
    "plt.show()"
   ]
  },
  {
   "cell_type": "markdown",
   "metadata": {},
   "source": [
    "正規分布がデータの広がり具合にフィットしていますね。  \n",
    "このような正規分布を想定する場合、このデータはもっともらしく見えます。  \n",
    "この場合の尤度を求めましょう。"
   ]
  },
  {
   "cell_type": "code",
   "execution_count": null,
   "metadata": {},
   "outputs": [],
   "source": [
    "import numpy as np\n",
    "\n",
    "x_data = np.array([2.4, 1.2, 3.5, 2.1, 4.7])\n",
    " \n",
    "sigma = np.std(x_data)   # 標準偏差をデータのものに\n",
    "mu = np.average(x_data)  # 平均値をデータのものに\n",
    "\n",
    "def pdf(x):\n",
    "    return 1/(sigma*np.sqrt(2*np.pi))*np.exp(-(x-mu)**2 / (2*sigma**2))  # 確率密度関数\n",
    "\n",
    "p = pdf(x_data)    # 確率\n",
    "print()  # 総乗により尤度を計算"
   ]
  },
  {
   "cell_type": "markdown",
   "metadata": {},
   "source": [
    "尤度は先ほどよりも大幅に大きくなりました。  \n",
    "以上のように、尤度は正規分布などの分布を想定した際の、データのもっともらしさを表します。\n",
    "\n",
    "正規分布を想定する場合、確率密度関数にデータの標準偏差と平均値を使うと尤度は最大になります。  \n",
    "このようにデータから尤度が最大になる確率分布のパラメータを求めることを**最尤推定**といいます。"
   ]
  },
  {
   "cell_type": "markdown",
   "metadata": {},
   "source": [
    "### 演習:\n",
    "以下のセルを補完し、標準偏差が1.5、平均値が2.4の正規分布を想定した際のデータの尤度を求めましょう。    "
   ]
  },
  {
   "cell_type": "code",
   "execution_count": null,
   "metadata": {},
   "outputs": [],
   "source": [
    "import numpy as np\n",
    "import matplotlib.pyplot as plt\n",
    "\n",
    "x_data = np.array([2.4, 1.2, 3.5, 2.1, 4.7])  # データ\n",
    "y_data = np.zeros(5)\n",
    " \n",
    "sigma = 1.5  # 標準偏差\n",
    "mu = 2.4     # 平均値\n",
    "\n",
    "def pdf(x):\n",
    "    return 1/(sigma*np.sqrt(2*np.pi))*np.exp(-(x-mu)**2 / (2*sigma**2))  # 確率密度関数\n",
    "\n",
    "x_pdf = np.linspace(-3, 7)\n",
    "y_pdf = pdf(x_pdf)\n",
    "\n",
    "plt.scatter(x_data, y_data)\n",
    "plt.plot(x_pdf, y_pdf)\n",
    "plt.show()\n",
    "\n",
    "p = pdf()    # 確率\n",
    "print()  # 総乗により尤度を計算"
   ]
  }
 ],
 "metadata": {
  "kernelspec": {
   "display_name": "Python 3",
   "language": "python",
   "name": "python3"
  },
  "language_info": {
   "codemirror_mode": {
    "name": "ipython",
    "version": 3
   },
   "file_extension": ".py",
   "mimetype": "text/x-python",
   "name": "python",
   "nbconvert_exporter": "python",
   "pygments_lexer": "ipython3",
   "version": "3.5.4"
  }
 },
 "nbformat": 4,
 "nbformat_minor": 2
}
