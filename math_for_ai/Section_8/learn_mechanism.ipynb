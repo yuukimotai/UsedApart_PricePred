{
 "cells": [
  {
   "cell_type": "markdown",
   "metadata": {},
   "source": [
    "# 学習のメカニズム\n",
    "単一ニューロン学習するメカニズムを解説します。  \n",
    "これにより、ニューラルネットワークが学習する仕組みの基礎を学びます。"
   ]
  },
  {
   "cell_type": "markdown",
   "metadata": {},
   "source": [
    "### 単一ニューロンの学習\n",
    "通常、ニューラルネットワークは複数のニューロンからなる層が重なって構成されます。\n",
    "しかしながら、本セクションでは簡単にするため単一ニューロンを用いてシンプルな学習を行います。  \n",
    "以下の図は、今回学習に用いるニューロンです。\n",
    "\n",
    "<img src=\"images/single_neuron.png\">\n",
    "\n",
    "ニューロンには通常複数の入力がありますが、今回は入力は1つのみとします。  \n",
    "このニューロンの入力をx座標、出力をy座標として、ある曲線を描くことができるようにニューロンを訓練します。"
   ]
  },
  {
   "cell_type": "markdown",
   "metadata": {},
   "source": [
    "### 順伝播の式\n",
    "今回のニューロンにおいて、順伝播は以下の式で表されます。\n",
    "\n",
    "（式 1）\n",
    "$$u = xw + b$$\n",
    "$$y = f(u)$$\n",
    "\n",
    "$x$が入力、$y$が出力です。  \n",
    "$w$は重みと呼ばれるパラメータ、$b$はバイアスと呼ばれるパラメータです。  \n",
    "これらのパラメータの調整により、ニューロンでは学習が行われます。  \n",
    "\n",
    "入力と重みの積にバイアスを足したものを$u$とし、$u$を活性化関数と呼ばれる関数に入れます。  \n",
    "上記の式では、$f$が活性化関数です。  \n",
    "$f$により、出力$y$を得ることができます。  \n",
    "\n",
    "活性化関数には様々な種類がありますが、今回はシグモイド関数という関数を使います。  \n",
    "シグモイド関数は以下の式で表されます。  \n",
    "\n",
    "$$y = \\frac{1}{1+\\exp(-u)}$$ "
   ]
  },
  {
   "cell_type": "markdown",
   "metadata": {},
   "source": [
    "### 誤差の定義\n",
    "ニューロンの出力と正解の誤差を定義します。  \n",
    "この誤差を小さくするように、重みとバイアスを調整することで学習が行われます。\n",
    "\n",
    "今回は、出力と正解の差を2乗して1/2をかけたものを誤差とします。  \n",
    "\n",
    "$$E=\\frac{1}{2}(t-y)^2$$\n",
    "\n",
    "$E$が誤差、$t$が正解、$y$が出力です。  \n"
   ]
  },
  {
   "cell_type": "markdown",
   "metadata": {},
   "source": [
    "### 正解の設定\n",
    "学習に用いる正解を作成します。  \n",
    "sin関数を用いてを正解を作成します。  "
   ]
  },
  {
   "cell_type": "code",
   "execution_count": 1,
   "metadata": {},
   "outputs": [
    {
     "data": {
      "image/png": "[encoded data removed]",
      "text/plain": [
       "<matplotlib.figure.Figure at 0x104ddf828>"
      ]
     },
     "metadata": {},
     "output_type": "display_data"
    }
   ],
   "source": [
    "import numpy as np\n",
    "import matplotlib.pyplot as plt\n",
    "\n",
    "# -- 入力と正解の用意 --\n",
    "input_data = np.linspace(-np.pi/2, np.pi/2)  # 入力\n",
    "correct_data = (np.sin(input_data) + 1)/2    # 正解 0-1の範囲に収める\n",
    "\n",
    "# グラフに描画してみる\n",
    "plt.plot(input_data, correct_data)\n",
    "plt.show()"
   ]
  },
  {
   "cell_type": "markdown",
   "metadata": {},
   "source": [
    "学習の際は出力がこの正解に近くなるように学習を行います。"
   ]
  },
  {
   "cell_type": "markdown",
   "metadata": {},
   "source": [
    "### 重みとバイアスの更新\n",
    "以下の式を使って重みとバイアスを更新することにより、学習が行われます。\n",
    "\n",
    "$$ w \\leftarrow w-\\eta\\frac{\\partial E}{\\partial w} $$\n",
    "\n",
    "$$ b \\leftarrow b-\\eta\\frac{\\partial E}{\\partial b} $$\n",
    "\n",
    "矢印は重みやバイアスの更新を表します。  \n",
    "誤差$E$を重み$w$で偏微分することにより、重みの変化に対する誤差の変化の割合$\\frac{\\partial E}{\\partial w}$を求めることができます。  \n",
    "この値が大きければ、重みの変化に対して誤差が変化することになります。  \n",
    "また、この値が小さければ、重みが変化しても誤差はあまり変化しないことなります。  \n",
    "\n",
    "上記の式では、誤差が大きく変化する際は重みを大きく変化させ、誤差が変化しないばあいはあまり誤差を変化させません。\n",
    "これにより、誤差が変化しなくなるまで重みが更新されることになります。  \n",
    "バイアスの場合も同様です。\n",
    "\n",
    "なお、$\\eta$は学習係数と呼ばれる定数で、通常は0.1や0.01などの小さい値に設定します。  \n",
    "$\\frac{\\partial E}{\\partial w}$を**勾配**と呼びますが、上記の式により重みとバイアスの更新を行うためには、まず勾配を求める必要があります。"
   ]
  },
  {
   "cell_type": "markdown",
   "metadata": {},
   "source": [
    "### 重みの勾配\n",
    "\n",
    "重みとバイアスの勾配を求めます。  \n",
    "\n",
    "まずは重みの勾配、すなわち$\\frac{\\partial E}{\\partial w}$を求めます。  \n",
    "\n",
    "重みの勾配は、微分のセクションで解説した連鎖律を用いて以下のように展開できます。\n",
    "\n",
    "（式 2）\n",
    "$$ \\frac{\\partial E}{\\partial w}=\\frac{\\partial E}{\\partial u}\\frac{\\partial u}{\\partial w} $$\n",
    "\n",
    "以前に（式 1）で表した$u$を使っています。  \n",
    "\n",
    "ここで、右辺の$\\frac{\\partial u}{\\partial w}$の部分は、$x$が入力、$b$がバイアスなので次のように表せます。\n",
    "\n",
    "（式 3）\n",
    "$$ \\begin{aligned} \\\\\n",
    "\\frac{\\partial u}{\\partial w} & = \\frac{\\partial (x w + b)}{\\partial w} \\\\\n",
    "& = x \n",
    "\\end{aligned} $$\n",
    "\n",
    "（式 2）式の右辺の$\\frac{\\partial E}{\\partial u}$の部分は、出力$y$を用いた連鎖律により次のようになります。\n",
    "\n",
    "$$ \\frac{\\partial E}{\\partial u} = \\frac{\\partial E}{\\partial y}\\frac{\\partial y}{\\partial u} $$ \n",
    "\n",
    "すなわち、誤差を出力で偏微分したものと、出力を$u$で偏微分したものの積になります。  \n",
    "前者は、次のように誤差を偏微分することで求めることができます。\n",
    "\n",
    "$$\\frac{\\partial E}{\\partial y} = \\frac{\\partial}{\\partial y}(\\frac{1}{2}(t-y)^2) = y-t$$\n",
    "\n",
    "後者は、活性化関数を偏微分することで求めることができます。   \n",
    "活性化関数にはシグモイド関数を使いますが、シグモイド関数$f(x)$の導関数は、\n",
    "\n",
    "$$f'(x)=(1-f(x))f(x)$$\n",
    "\n",
    "となります。（興味のある方は各自導出してみてください）  \n",
    "従って、$\\frac{\\partial y}{\\partial u}$は次のようになります。\n",
    "\n",
    "$$ \\begin{aligned} \\\\\n",
    "\\frac{\\partial y}{\\partial u} & = (1-y)y\n",
    "\\end{aligned} $$\n",
    "\n",
    "ここで、次のように$\\delta$を設定しておきます。  \n",
    "\n",
    "（式 4）\n",
    "$$ \\delta = \\frac{\\partial E}{\\partial u} = \\frac{\\partial E}{\\partial y}\\frac{\\partial y}{\\partial u} = (y-t)(1-y)y $$ \n",
    "\n",
    "この$\\delta$は、バイアスの勾配を求める際にも使用します。  \n",
    "（式 3）と（式 4）により、（式 2）は次の形になります。\n",
    "\n",
    "$$ \\frac{\\partial E}{\\partial w} = x\\delta $$\n",
    "\n",
    "重みの勾配$\\frac{\\partial E}{\\partial w}$を、$x$と$\\delta$の積として表すことができました。 "
   ]
  },
  {
   "cell_type": "markdown",
   "metadata": {},
   "source": [
    "### バイアスの勾配\n",
    "バイアスの勾配も同様にして求めることができます。  \n",
    "バイアスの場合、連鎖律により以下の関係が成り立ちます。\n",
    "\n",
    "（式 5）\n",
    "$$ \\frac{\\partial E}{\\partial b}=\\frac{\\partial E}{\\partial u}\\frac{\\partial u}{\\partial b} $$\n",
    "\n",
    "このとき、右辺の$\\frac{\\partial u}{\\partial b}$の部分は次のようになります。  \n",
    "\n",
    "$$ \\begin{aligned} \\\\\n",
    "\\frac{\\partial u}{\\partial b} & = \\frac{\\partial(xw+b)}{\\partial b} \\\\\n",
    "& = 1 \n",
    "\\end{aligned} $$\n",
    "\n",
    "（式 5）における$\\frac{\\partial E}{\\partial u}$の部分は、重みの勾配の場合と変わらないので、同様に$\\delta$とします。  \n",
    "以上のの結果を踏まえて、（式 5）は次の形になります。\n",
    "\n",
    "$$ \\frac{\\partial E}{\\partial b} = \\delta $$\n",
    "\n",
    "このように、バイアスの場合勾配は$\\delta$に等しくなります。 \n",
    "\n",
    "以上により、重みとバイアスの勾配を、それぞれ$\\delta$を用いたシンプルな式で表すことができました。  \n",
    "これらの勾配を使って、重みとバイアスを更新することにより学習が行われます。  \n",
    "\n",
    "次回は、今回学んだ内容をコードに落とし込み、実際に学習を行います。"
   ]
  }
 ],
 "metadata": {
  "kernelspec": {
   "display_name": "Python 3",
   "language": "python",
   "name": "python3"
  },
  "language_info": {
   "codemirror_mode": {
    "name": "ipython",
    "version": 3
   },
   "file_extension": ".py",
   "mimetype": "text/x-python",
   "name": "python",
   "nbconvert_exporter": "python",
   "pygments_lexer": "ipython3",
   "version": "3.5.4"
  }
 },
 "nbformat": 4,
 "nbformat_minor": 2
}
