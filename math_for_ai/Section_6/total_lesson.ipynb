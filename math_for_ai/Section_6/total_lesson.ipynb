{
 "cells": [
  {
   "cell_type": "markdown",
   "metadata": {},
   "source": [
    "# 全微分\n",
    "全微分では、多変数関数の微小変化を、全ての変数の微小変化により求めます。  "
   ]
  },
  {
   "cell_type": "markdown",
   "metadata": {},
   "source": [
    "### 全微分とは？\n",
    "\n",
    "2変数関数$z=f(x,y)$の**全微分**は、次の式で表されます。 \n",
    "\n",
    "（式 1）\n",
    "$$ dz = \\frac{\\partial z}{\\partial x}dx + \\frac{\\partial z}{\\partial y}dy $$\n",
    "\n",
    "$x$による偏微分に$x$の微小変化$dx$をかけたものと、$y$による偏微分に$y$の微小変化$dy$をかけたものを足し合わせて、$z$の微小変化$dz$としています。\n",
    "\n",
    "変数が2つより多い関数も考えられますので、 より汎用的な形で書いてみましょう。  \n",
    "以下は、$n$個の変数を持つ関数$z$の全微分です。$x_i$が各変数を表します。  　　\n",
    "\n",
    "$$ dz = \\sum_{i=1}^n\\frac{\\partial z}{\\partial x_i}dx_i $$\n",
    "\n",
    "全微分を用いることで、多変数関数の微小な変化量を、各変数による偏微分と各変数の微小な変化により求めることができます。  \n",
    "人工知能では多くのパラメータを持つ多変数関数を扱うので、結果の微小な変化量を求めるために全微分が役に立ちます。"
   ]
  },
  {
   "cell_type": "markdown",
   "metadata": {},
   "source": [
    "### 全微分の式の導出\n",
    "（式 1）を導出します。    \n",
    "関数$z=f(x,y)$を考えます。$x$の微小な変化を$\\Delta x$、$y$の微小な変化を$\\Delta y$とすると、$z$の微小な変化$\\Delta z$は次のように表されます。\n",
    "\n",
    "$$ \\begin{aligned}\n",
    "\\Delta z & = f(x+\\Delta x,y+\\Delta y)-f(x,y)\\\\\n",
    "& = f(x+\\Delta x,y+\\Delta y)-f(x,y+\\Delta y)+f(x,y+\\Delta y)-f(x,y) \\\\\n",
    "& = \\frac{f(x+\\Delta x,y+\\Delta y)-f(x,y+\\Delta y)}{\\Delta x}\\Delta x+\\frac{f(x,y+\\Delta y)-f(x,y)}{\\Delta y}\\Delta y\n",
    "\\end{aligned} $$\n",
    "\n",
    "この式で、$\\Delta x$と$\\Delta y$を次のように0に限りなく近づけます。\n",
    "\n",
    "$$ \\begin{aligned}\n",
    "\\lim_{\\Delta x \\to 0 \\Delta y \\to 0}\\Delta z \n",
    "& = \\lim_{\\Delta x \\to 0 \\Delta y \\to 0}\\frac{f(x+\\Delta x,y+\\Delta y)-f(x,y+\\Delta y)}{\\Delta x}\\Delta x \n",
    "&+\\lim_{\\Delta x \\to 0 \\Delta y \\to 0}\\frac{f(x,y+\\Delta y)-f(x,y)}{\\Delta y}\\Delta y\n",
    "\\end{aligned} $$\n",
    "\n",
    "この式で、$\\Delta y$が十分小さければ、右辺第1項の$\\Delta y$は無視できます。  \n",
    "このとき、右辺の第1項、第2項ともに偏微分の定義の式を含むようになります。  \n",
    "\n",
    "さらに、左辺を$dz$、微小量$\\Delta x$と$\\Delta y$を$dx$、$dy$とおくと、次の式が導かれます。  \n",
    "\n",
    "$$ dz = \\frac{\\partial z}{\\partial x}dx + \\frac{\\partial z}{\\partial y}dy $$"
   ]
  },
  {
   "cell_type": "markdown",
   "metadata": {},
   "source": [
    "### 全微分の例\n",
    "\n",
    "以下の関数を全微分してみましょう。\n",
    "\n",
    "$$ f(x,y)=3x^2+4xy+5y^3 $$\n",
    "\n",
    "$x$及び$y$による偏微分は以下の通りです。\n",
    "\n",
    "$$ \\frac{\\partial}{\\partial x}f(x,y) = 6x+4y $$\n",
    "$$ \\frac{\\partial}{\\partial y}f(x,y) = 4x+15y^2 $$\n",
    "\n",
    "従って、（式 1）により、全微分は以下のように表されます。\n",
    "\n",
    "$$ dz = (6x+4y)dx + (4x+15y^2)dy $$"
   ]
  },
  {
   "cell_type": "markdown",
   "metadata": {},
   "source": [
    "### 演習:\n",
    "以下の2変数関数を全微分しましょう。  \n",
    "答えは紙に書いても、以下のセルにLaTeXで記述してもかまいません。\n",
    "\n",
    "$$ f(x,y)=2x^3+4x^2y+xy^2-4y^2 $$"
   ]
  },
  {
   "cell_type": "markdown",
   "metadata": {},
   "source": [
    "---解答---\n"
   ]
  }
 ],
 "metadata": {
  "kernelspec": {
   "display_name": "Python 3",
   "language": "python",
   "name": "python3"
  },
  "language_info": {
   "codemirror_mode": {
    "name": "ipython",
    "version": 3
   },
   "file_extension": ".py",
   "mimetype": "text/x-python",
   "name": "python",
   "nbconvert_exporter": "python",
   "pygments_lexer": "ipython3",
   "version": "3.5.4"
  }
 },
 "nbformat": 4,
 "nbformat_minor": 2
}
