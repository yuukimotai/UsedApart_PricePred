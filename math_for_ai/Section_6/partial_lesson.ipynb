{
 "cells": [
  {
   "cell_type": "markdown",
   "metadata": {},
   "source": [
    "# 偏微分\n",
    "偏微分では、多変数関数を1つの変数により微分します。  \n",
    "人工知能において、1つのパラメータの変化が全体におよぼす影響を求めるのに使います。"
   ]
  },
  {
   "cell_type": "markdown",
   "metadata": {},
   "source": [
    "### 偏微分とは？\n",
    "複数の変数を持つ関数に対する、1つの変数のみによる微分を**偏微分**といいます。  \n",
    "偏微分の場合、他の変数は定数として扱います。  \n",
    "例えば、2変数からなる関数$f(x,y)$の偏微分は、次のように表すことができます。  \n",
    "\n",
    "$$ \\frac{\\partial}{\\partial x}f(x,y) = \\lim_{\\Delta x \\to 0}\\frac{f(x+\\Delta x,y)-f(x,y)}{\\Delta x} $$\n",
    "\n",
    "$x$のみ微小量$\\Delta x$だけ変化させて、$\\Delta x$を限りなく0に近づけます。$y$は微小変化しないので、偏微分の際は定数のように扱うことができます。  \n",
    "偏微分のイメージを以下の図に示します。\n",
    "\n",
    "<img src=\"images/partial.png\">\n",
    "\n",
    "この図では、$x_i$以外の変数を固定して、$x_i$に対する$f(x_1,x_2,\\cdots, x_i,\\cdots)$の変化の割合を求めています。  \n",
    "\n",
    "このように、偏微分ではある変数$x_i$以外の変数を固定して、$x_i$の変化に対する$f(x_1,x_2,\\cdots, x_i,\\cdots)$の変化の割合、すなわち勾配を求めます。  "
   ]
  },
  {
   "cell_type": "markdown",
   "metadata": {},
   "source": [
    "### 偏微分の例\n",
    "例として、次のような変数$x$、$y$を持つ関数$f(x,y)$を考えてみましょう。  \n",
    "\n",
    "$$ f(x,y)=3x^2+4xy+5y^3 $$\n",
    "\n",
    "この関数を偏微分します。偏微分の際は、$y$を定数として扱い、微分の公式を用いて$x$で微分します。  \n",
    "これにより、以下の式を得ることができます。偏微分では$d$ではなく$\\partial$の記号を使います。\n",
    "\n",
    "$$ \\frac{\\partial}{\\partial x}f(x,y) = 6x+4y $$\n",
    "\n",
    "このような、偏微分により求めた関数を**偏導関数**といいます。この場合、偏導関数は$y$の値を固定した際の、$x$の変化に対する$f(x,y)$の変化の割合になります。  \n",
    "\n",
    "$f(x,y)$の$y$による偏微分は以下の通りです。この場合、$x$は定数として扱います。  \n",
    "\n",
    "$$ \\frac{\\partial}{\\partial y}f(x,y) = 4x+15y^2 $$\n",
    "\n",
    "これは、$x$の値を固定した際の、$y$の変化に対する$f(x,y)$の変化の割合になります。　\n",
    "\n",
    "偏微分を用いることで、特定のパラーメータの微小な変化が、結果へ及ぼす影響を予測することができます。"
   ]
  },
  {
   "cell_type": "markdown",
   "metadata": {},
   "source": [
    "### 演習:\n",
    "以下の2変数関数を、$x$及び$y$で偏微分しましょう。  \n",
    "答えは紙に書いても、以下のセルにLaTeXで記述してもかまいません。\n",
    "\n",
    "$$ f(x,y)=2x^3+4x^2y+xy^2-4y^2 $$"
   ]
  },
  {
   "cell_type": "markdown",
   "metadata": {},
   "source": [
    "---解答---\n"
   ]
  }
 ],
 "metadata": {
  "kernelspec": {
   "display_name": "Python 3",
   "language": "python",
   "name": "python3"
  },
  "language_info": {
   "codemirror_mode": {
    "name": "ipython",
    "version": 3
   },
   "file_extension": ".py",
   "mimetype": "text/x-python",
   "name": "python",
   "nbconvert_exporter": "python",
   "pygments_lexer": "ipython3",
   "version": "3.5.4"
  }
 },
 "nbformat": 4,
 "nbformat_minor": 2
}
