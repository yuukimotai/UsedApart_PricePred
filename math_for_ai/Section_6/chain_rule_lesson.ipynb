{
 "cells": [
  {
   "cell_type": "markdown",
   "metadata": {},
   "source": [
    "# 連鎖律\n",
    "連鎖律（chain rule）により、合成関数の微分が可能になります。  \n",
    "連鎖律は、人工知能の一種であるニューラルネットワークの学習に使用します。"
   ]
  },
  {
   "cell_type": "markdown",
   "metadata": {},
   "source": [
    "### 合成関数とは？\n",
    "連鎖律を扱う前に、**合成関数**を解説します。合成関数とは、\n",
    "\n",
    "$$ \\begin{aligned} \\\\\n",
    "y & = f(u) \\\\\n",
    "u & = g(x) \\\\\n",
    "\\end{aligned} $$\n",
    "\n",
    "のようにして、複数の関数の合成で表される関数のことです。    \n",
    "例えば、関数 $y=(x^2+1)^3$ は、以下のような$u$を挟んだ合成関数と考えることができます。\n",
    "\n",
    "$$ \\begin{aligned} \\\\\n",
    "y &= u^3 \\\\\n",
    "u &= x^2+1 \\\\\n",
    "\\end{aligned} $$"
   ]
  },
  {
   "cell_type": "markdown",
   "metadata": {},
   "source": [
    "### 連鎖律（chain rule）とは？\n",
    "合成関数の微分は、構成する各関数の導関数の積で表すことができます。これを**連鎖律**（chain rule）といいます。  \n",
    "連鎖律は以下の式で表されます。  \n",
    "\n",
    "（式 1）\n",
    "$$ \\frac{dy}{dx} = \\frac{dy}{du} \\frac{du}{dx} $$\n",
    "\n",
    "$y$が$u$の関数で、$u$が$x$の関数であるとき、この公式を用いて$y$を$x$で微分することができます。  \n",
    "例として、以下の関数を微分してみましょう。  \n",
    "\n",
    "$$ y=(x^3+2x^2+3x+4)^3 $$\n",
    "\n",
    "この式において、$u$を以下の通り設定します。  \n",
    "\n",
    "$$ u=x^3+2x^2+3x+4 $$\n",
    "\n",
    "そうすると、$y$を以下のように表すことができます。  \n",
    "\n",
    "$$ y=u^3 $$\n",
    "\n",
    "このとき、（式 1）の連鎖律の式を用いると、$y$を$x$で微分することができます。 \n",
    "\n",
    "$$ \\begin{aligned} \\\\\n",
    "\\frac{dy}{dx} & =\\frac{dy}{du} \\frac{du}{dx} \\\\\n",
    "& = 3u^2(3x^2+4x+3) \\\\\n",
    "& =3(x^3+2x^2+3x+4)^2(3x^2+4x+3) \n",
    "\\end{aligned} $$\n",
    "\n",
    "以上のように、合成関数は連鎖律を用いて微分することができます。   "
   ]
  },
  {
   "cell_type": "markdown",
   "metadata": {},
   "source": [
    "### 連鎖律の証明\n",
    "連鎖律を証明します。  \n",
    "厳密な証明ではありませんが、イメージを把握することができます。\n",
    "\n",
    "$y=f(u)$、$u=g(x)$としたとき、$y$の$x$による導関数は次のようになります。\n",
    "\n",
    "$$ \\begin{aligned}\n",
    "\\frac{dy}{dx} & =\\lim_{\\Delta x \\to 0}\\frac{f(g(x+\\Delta x))-f(g(x))}{\\Delta x} \\\\\n",
    "& = \\lim_{\\Delta x \\to 0}(\\frac{f(g(x+\\Delta x))-f(g(x))}{g(x+\\Delta x)-g(x)} \\cdot \\frac{g(x+\\Delta x)-g(x)}{\\Delta x})\n",
    "\\end{aligned} $$\n",
    "\n",
    "ここで、$\\Delta u = g(x+\\Delta x)-g(x)$とおくと、$\\Delta x \\to 0$のとき、$\\Delta u \\to 0$なので、\n",
    "\n",
    "$$ \\begin{aligned}\n",
    "\\frac{dy}{dx} & = \\lim_{\\Delta x \\to 0}(\\frac{f(u+\\Delta u)-f(u)}{\\Delta u} \\cdot \\frac{\\Delta u}{\\Delta x}) \\\\\n",
    "& = \\lim_{\\Delta u \\to 0}(\\frac{f(u+\\Delta u)-f(u)}{\\Delta u}) \\cdot \\lim_{\\Delta x \\to 0} \\frac{\\Delta u}{\\Delta x} \\\\\n",
    "& =\\frac{dy}{du} \\frac{du}{dx}\n",
    "\\end{aligned} $$\n",
    "\n",
    "以上のように連鎖率が導かれます。  "
   ]
  },
  {
   "cell_type": "markdown",
   "metadata": {},
   "source": [
    "### 演習:\n",
    "以下の合成関数の導関数を、連鎖律を使って求めましょう。  \n",
    "答えは紙に書いても、以下のセルにLaTeXで記述してもかまいません。\n",
    "\n",
    "$$ y=(x^2+4x+1)^4 $$"
   ]
  },
  {
   "cell_type": "markdown",
   "metadata": {},
   "source": [
    "---解答---\n"
   ]
  }
 ],
 "metadata": {
  "kernelspec": {
   "display_name": "Python 3",
   "language": "python",
   "name": "python3"
  },
  "language_info": {
   "codemirror_mode": {
    "name": "ipython",
    "version": 3
   },
   "file_extension": ".py",
   "mimetype": "text/x-python",
   "name": "python",
   "nbconvert_exporter": "python",
   "pygments_lexer": "ipython3",
   "version": "3.7.1"
  }
 },
 "nbformat": 4,
 "nbformat_minor": 2
}
