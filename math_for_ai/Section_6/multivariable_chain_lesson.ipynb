{
 "cells": [
  {
   "cell_type": "markdown",
   "metadata": {},
   "source": [
    "# 多変数合成関数の連鎖率\n",
    "多変数からなる合成関数を、連載律により微分します。  "
   ]
  },
  {
   "cell_type": "markdown",
   "metadata": {},
   "source": [
    "### 多変数合成関数の微分1\n",
    "\n",
    "多変数からなる合成関数に連鎖律を適用しましょう。  \n",
    "まずは、以下の合成関数を考えます。\n",
    "\n",
    "$$ \\begin{aligned}\n",
    "z & = f(u,v) \\\\\n",
    "u & = g(x) \\\\\n",
    "v & = h(x)\n",
    "\\end{aligned} $$\n",
    "\n",
    "$z$は$u$と$v$の関数で、$u$と$v$はそれぞれ$x$の関数です。この合成関数で、$\\frac{dz}{dx}$を求めましょう。  \n",
    "この場合、以前に扱った全微分の式により以下が成り立ちます。  \n",
    "\n",
    "$$ dz = \\frac{\\partial z}{\\partial u}du + \\frac{\\partial z}{\\partial v}dv $$\n",
    "\n",
    "この式の両辺を微小量$dx$で割ることで、合成関数$z$の$x$による微分を次の式のように得ることができます。  \n",
    "\n",
    "$$ \\frac{dz}{dx} = \\frac{\\partial z}{\\partial u}\\frac{du}{dx} + \\frac{\\partial z}{\\partial v}\\frac{dv}{dx} $$\n",
    "\n",
    "この式を一般化します。$u$や$v$のような媒介する変数が$m$個あるとすると、次のように表すことができます。    \n",
    "\n",
    "（式 1）\n",
    "$$ \\frac{dz}{dx} = \\sum_{i=1}^m\\frac{\\partial z}{\\partial u_i}\\frac{du_i}{dx} $$\n",
    "\n",
    "$u_i$は、上記の$u$、$v$のような媒介する変数です。以前に解説した連鎖律の式に、総和の記号$\\Sigma$が追加されました。  "
   ]
  },
  {
   "cell_type": "markdown",
   "metadata": {},
   "source": [
    "### 多変数合成関数の微分2\n",
    "同様のプロセスを、以下の合成関数に適用してみましょう。\n",
    "\n",
    "$$ \\begin{aligned}\n",
    "z & = f(u,v) \\\\\n",
    "u & = g(x, y) \\\\\n",
    "v & = h(x, y)\n",
    "\\end{aligned} $$\n",
    "\n",
    "$z$は$u$と$v$の関数で、$u$と$v$はともに$x$と$y$の関数です。  \n",
    "この場合、$z$の$x$に対する変化の割合と、$z$の$y$に対する変化の割合は偏微分で表されます。  \n",
    "これらは、（式 1）を適用すると次の形になります。    \n",
    "\n",
    "$$ \\begin{aligned}\n",
    "\\frac{\\partial z}{\\partial x} = \\frac{\\partial z}{\\partial u} \\frac{\\partial u}{\\partial x}+\\frac{\\partial z}{\\partial v} \\frac{\\partial v}{\\partial x} \\\\\n",
    "\\frac{\\partial z}{\\partial y} = \\frac{\\partial z}{\\partial u} \\frac{\\partial u}{\\partial y}+\\frac{\\partial z}{\\partial v} \\frac{\\partial v}{\\partial y}\n",
    "\\end{aligned} $$\n",
    "\n",
    "これらの式を一般化します。$x_k$が$z$を構成する変数の一つであり、媒介する変数が$m$個あるとき、以下の関係が成り立ちます。  \n",
    "\n",
    "$$ \\frac{\\partial z}{\\partial x_k} = \\sum_{i=1}^m\\frac{\\partial z}{\\partial u_i}\\frac{\\partial u_i}{\\partial x_k} $$\n",
    "\n",
    "さらに、上記をベクトルで表します。$z$が変数$x_1,x_2,\\cdots,x_n$の関数であり、間に入る関数が$m$個ある場合、以下の関係が成り立ちます。  \n",
    "\n",
    "$$  \\begin{aligned} \\\\\n",
    "(\\frac{\\partial z}{\\partial x_1},  \\frac{\\partial z}{\\partial x_2},  \\cdots , \\frac{\\partial z}{\\partial x_n})\n",
    "  & = (\\sum\\limits_{i=1}^m \\frac{\\partial z}{\\partial u_i}\\dfrac{\\partial u_i}{\\partial x_1} , \\sum\\limits_{i=1}^m \\frac{\\partial z}{\\partial u_i}\\dfrac{\\partial u_i}{\\partial x_2}, \\cdots , \\sum\\limits_{i=1}^m \\frac{\\partial z}{\\partial u_i}\\dfrac{\\partial u_i}{\\partial x_n})\n",
    "  \\end{aligned}\n",
    "  $$\n",
    "\n",
    "このようにして、全ての変数による偏導関数を一度に表すことができます。  \n",
    "\n",
    "以上により、多変数の連鎖率が一般的な形で表されました。人工知能では多変数の合成関数を扱いますが、連鎖率により各変数が関数に与える影響を求めることができます。"
   ]
  },
  {
   "cell_type": "markdown",
   "metadata": {},
   "source": [
    "### 多変数合成関数の微分の例\n",
    "\n",
    "以下の合成関数を$x$で微分します。\n",
    "\n",
    "$$ z=u^3 + 3v^2$$\n",
    "$$ u=2x^2+3x+4 $$\n",
    "$$ v= x^2+5 $$\n",
    "\n",
    "（式 1）により、\n",
    "\n",
    "$$ \\begin{aligned}\n",
    "\\frac{dz}{dx} &= \\frac{\\partial z}{\\partial u}\\frac{du}{dx} + \\frac{\\partial z}{\\partial v}\\frac{dv}{dx} \\\\\n",
    "&= 3u^2(4x+3)+6v(2x) \\\\\n",
    "&= 3(2x^2+3x+4)^2(4x+3)+12x(x^2+5)\n",
    "\\end{aligned} $$\n",
    "\n",
    "このように、多変数の合成関数であっても連鎖律を用いれば微分することが可能です。"
   ]
  },
  {
   "cell_type": "markdown",
   "metadata": {},
   "source": [
    "### 演習:\n",
    "以下の合成関数を$x$で微分しましょう。  \n",
    "答えは紙に書いても、以下のセルにLaTeXで記述してもかまいません。\n",
    "\n",
    "$$ z=2u^3 +uv^2 + 4v$$\n",
    "$$ u=x^2+3x $$\n",
    "$$ v= x+7 $$"
   ]
  },
  {
   "cell_type": "markdown",
   "metadata": {},
   "source": [
    "---解答---\n"
   ]
  }
 ],
 "metadata": {
  "kernelspec": {
   "display_name": "Python 3",
   "language": "python",
   "name": "python3"
  },
  "language_info": {
   "codemirror_mode": {
    "name": "ipython",
    "version": 3
   },
   "file_extension": ".py",
   "mimetype": "text/x-python",
   "name": "python",
   "nbconvert_exporter": "python",
   "pygments_lexer": "ipython3",
   "version": "3.6.10"
  }
 },
 "nbformat": 4,
 "nbformat_minor": 2
}
